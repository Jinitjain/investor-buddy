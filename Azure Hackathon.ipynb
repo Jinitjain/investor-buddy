{
 "cells": [
  {
   "cell_type": "markdown",
   "metadata": {},
   "source": [
    "# Azure hackathon"
   ]
  },
  {
   "cell_type": "markdown",
   "metadata": {},
   "source": [
    "## Import"
   ]
  },
  {
   "cell_type": "code",
   "execution_count": 80,
   "metadata": {},
   "outputs": [
    {
     "name": "stderr",
     "output_type": "stream",
     "text": [
      "[nltk_data] Downloading package stopwords to\n",
      "[nltk_data]     C:\\Users\\Jayant\\AppData\\Roaming\\nltk_data...\n",
      "[nltk_data]   Package stopwords is already up-to-date!\n",
      "[nltk_data] Downloading package punkt to\n",
      "[nltk_data]     C:\\Users\\Jayant\\AppData\\Roaming\\nltk_data...\n",
      "[nltk_data]   Package punkt is already up-to-date!\n",
      "[nltk_data] Downloading package averaged_perceptron_tagger to\n",
      "[nltk_data]     C:\\Users\\Jayant\\AppData\\Roaming\\nltk_data...\n",
      "[nltk_data]   Package averaged_perceptron_tagger is already up-to-\n",
      "[nltk_data]       date!\n",
      "[nltk_data] Downloading package maxent_ne_chunker to\n",
      "[nltk_data]     C:\\Users\\Jayant\\AppData\\Roaming\\nltk_data...\n",
      "[nltk_data]   Package maxent_ne_chunker is already up-to-date!\n",
      "[nltk_data] Downloading package words to\n",
      "[nltk_data]     C:\\Users\\Jayant\\AppData\\Roaming\\nltk_data...\n",
      "[nltk_data]   Package words is already up-to-date!\n"
     ]
    }
   ],
   "source": [
    "import nltk\n",
    "nltk.download('stopwords')\n",
    "nltk.download('punkt')\n",
    "nltk.download('averaged_perceptron_tagger')\n",
    "nltk.download('maxent_ne_chunker')\n",
    "nltk.download('words')\n",
    "from nltk.corpus import stopwords\n",
    "stop = stopwords.words('english')\n",
    "\n",
    "import numpy as np\n",
    "import pandas as pd\n",
    "\n",
    "# !pip3 install textblob\n",
    "# !python3 -m textblob.download_corpora\n",
    "\n",
    "from textblob import TextBlob\n"
   ]
  },
  {
   "cell_type": "code",
   "execution_count": 2,
   "metadata": {},
   "outputs": [
    {
     "name": "stdout",
     "output_type": "stream",
     "text": [
      "showing info https://raw.githubusercontent.com/nltk/nltk_data/gh-pages/index.xml\n"
     ]
    }
   ],
   "source": [
    "nltk.download()\n",
    "from nltk.corpus import stopwords\n",
    "stop = stopwords.words('english')\n",
    "# stop = list(map(lambda x: x.upper(),stop))\n",
    "stop.remove('in')\n",
    "stop.remove('at')\n",
    "stop.remove('and')\n",
    "stop.remove('to')\n"
   ]
  },
  {
   "cell_type": "markdown",
   "metadata": {},
   "source": [
    "## Get article in document"
   ]
  },
  {
   "cell_type": "code",
   "execution_count": 3,
   "metadata": {},
   "outputs": [],
   "source": [
    "document = \"\"\"Lower costs and stable pricing came to the rescue of UltraTech, even as the pandemic impacted its March quarter performance. UltraTech Cement reported a 6% year-on-year increase in its consolidated net profit at Rs 1,131 crore for the quarter ended March 31. This is the company’s normalised profit.\n",
    "\n",
    "The company has reported both normalised and net profit numbers this quarter, on account of deferred tax liabilities because of change in the tax regime from 35% to the new 25%. Normalised profit after tax (PAT) of Rs 1,131 crore is before considering the benefit of Rs 2,112 crore of reversal of deferred tax liabilities as on April 1, 2019, due to change in income tax rates. The company’s reported net profit stood at Rs 3,243 crore, including the gain of deferred tax liabilities (DTLs).\n",
    "\n",
    "RELATED NEWS\n",
    "Big 4 auditors have lost credibility among 57% investors: IiAS surveyBig 4 auditors have lost credibility among 57% investors: IiAS surveyDo mutual fund managers justify their fees? Here's how fund alpha compares with management feesDo mutual fund managers justify their fees? Here's how fund alpha compares with management fees\n",
    "\n",
    "According to HDFC Securities Institutional Research Desk, UltraTech’s volumes suffered (down 16% y-o-y) in the March quarter owing to the Covid-19 impact. However, stable pricing and lower energy cost drove unitary ebitda expansion 14% y-o-y to a solid Rs 1139/MT (up 13% quarter-on-quarter), thus moderating consolidated earnings before interest, taxes, depreciation and amortisation (ebitda) decline to 4% y-o-y. “Subsequently, higher treasury gains and lower tax rate drove up adjusted PAT by 6% y-o-y. During FY20, strong profits (ebitda/apat up 28/51%), along with working capital release and flattish capex boosted free cashflows and its net debt fell 25% y-o-y to `16.9 billion. Net debt/ebitda cooled off to 1.8x vs 3x y-o-y,” the brokerage said.\n",
    "\n",
    "The consolidated revenue from operations declined 13% y-o-y to Rs 10,579 crore on account of disruptions led by Covid-19 related shutdowns, resulting in lower sales volumes during the quarter and the full year. “In the face of the unprecedented situation arising out of the pandemic, the company’s operations across locations were shut down in line with the government directives. Construction activity across the country was halted, which is normally at its peak in the month of March, leading to an adverse impact on the company’s operations during the quarter ended March 31, 2020,” the company statement said.\n",
    "\n",
    "Consolidated sales volume suffered a sharp decline of 16% to 21.44 million tonne in Q4FY20, while for the full year volumes fell 4% to 82.33 million tonne.\n",
    "\n",
    "However, the consolidated ebitda remained flat at Rs 2,639 crore, supported by lower fuel and logistics costs, though, impacted by higher raw material prices. Consequently, consolidated ebitda margins came in at 25%, a rise of 300 basis points against the figures of fourth quarter last year.\n",
    "\n",
    "Logistics costs declined 3% y-o-y to Rs 1149 per tonne on account of benefit due to exemption of railway busy-season surcharge. The energy costs were lower by 13% y-o-y to Rs 914 per tonne with benefit from lower fuel prices and increased pet coke usage. The raw material costs increased 5% y-o-y to Rs 497 per tonne. This was on account of higher fly ash prices and increased share of new products.\n",
    "\n",
    "Meanwhile, cement dealers across the country expect significantly sluggish sales, elongated credit period to retailers, and higher working capital needs in the wake of the Covid-19 pandemic this financial year, according to a Crisil survey. Majority of the dealers surveyed said they expected volumes to shrink 10-30% in financial year 2020-2021 in the base case scenario, if the lockdown eases in May. “Extension beyond this can worsen these figures,” rating agency noted.\n",
    "\n",
    "Cement prices trend in May, to date, indicates that prices have been increased by Rs 20-30 per bag in the North, Central and West markets; Rs 20-50 per bag in the East markets (Rs 20-25 per bag in all states except Bihar where the price hike is Rs 50 per bag), and Rs 40-90 per bag in the south region. “If these prices sustain, price improvement in Q1FY21 should be at 6-16% quarter-on-quarter, much higher than our expectation of 0-1% q-o-q price increase. Current cement prices in the North, Central and South (net of all discounts) markets are at all-time high levels,” analysts at Emkay Research said in a recent report.\"\"\""
   ]
  },
  {
   "cell_type": "markdown",
   "metadata": {},
   "source": [
    "## Process Document"
   ]
  },
  {
   "cell_type": "code",
   "execution_count": 60,
   "metadata": {},
   "outputs": [],
   "source": [
    "def nltk_process(document):\n",
    "    document = \" \".join([i for i in document.split() if i not in stop])\n",
    "    sentences = nltk.sent_tokenize(document)\n",
    "    sentences = [nltk.word_tokenize(sent) for sent in sentences]\n",
    "    sentences = [nltk.pos_tag(sent) for sent in sentences]\n",
    "    return sentences\n",
    "\n",
    "def nltk_eval(document):\n",
    "    chunkGram = r\"\"\"\n",
    "    ADDRESS: {<JJ.?|CD.?>+<CD.?|JJ.?|NNP.?>+<CD|NNP>+}\n",
    "    TEST : {}\n",
    "    NP: {<DT|JJ|NN.*>+}\n",
    "    \"\"\"\n",
    "    organization = {}\n",
    "    location = {}\n",
    "    chunkParser = nltk.RegexpParser(chunkGram)\n",
    "    for tagged_sentence in nltk_process(document):\n",
    "            for chunk in nltk.ne_chunk(tagged_sentence):\n",
    "                if type(chunk) == nltk.tree.Tree:\n",
    "                    if chunk.label() == 'ORGANIZATION':\n",
    "                        ## Organization is found\n",
    "                        temp = (' '.join([c[0] for c in chunk])).lower()\n",
    "                        if temp in organization:\n",
    "                            organization[temp] += 1\n",
    "                        else:\n",
    "                            organization[temp] = 1\n",
    "                    if chunk.label() == 'GPE':\n",
    "                        temp = ' '.join([c[0] for c in chunk])\n",
    "                        if temp in location:\n",
    "                            location[temp] += 1\n",
    "                        else:\n",
    "                            location[temp] = 1\n",
    "    organization = {k: v for k, v in sorted(organization.items(), key=lambda item: item[1], reverse=True)}\n",
    "    location = {k: v for k, v in sorted(location.items(), key=lambda item: item[1], reverse=True)}\n",
    "    \n",
    "    print(\"Organizations:\\n\",list(organization.keys()))\n",
    "    print(\"Location:\\n\",list(location.keys()))\n",
    "                            \n",
    "    return organization, location\n",
    "    # return names, organization, location, address, other"
   ]
  },
  {
   "cell_type": "markdown",
   "metadata": {},
   "source": [
    "## Setting up one time company and subsector loading"
   ]
  },
  {
   "cell_type": "markdown",
   "metadata": {},
   "source": [
    "### Utilities function"
   ]
  },
  {
   "cell_type": "code",
   "execution_count": 54,
   "metadata": {},
   "outputs": [],
   "source": [
    "def clean_companies(companies):\n",
    "    cleaned_companies = []\n",
    "    for c in companies:\n",
    "        x = c.lower()\n",
    "        if x.endswith('limited'):\n",
    "            x = x[:-8]\n",
    "        elif x.endswith('ltd'):\n",
    "            x = x[:-4]\n",
    "        elif x.endswith('limited.'):\n",
    "            x = x[:-9]\n",
    "        elif x.endswith('ltd.'):\n",
    "            x = x[:-5]\n",
    "        else:\n",
    "            print(x)\n",
    "        cleaned_companies.append(x)\n",
    "    return cleaned_companies\n",
    "\n",
    "def clean_subsectors(subsector):\n",
    "    return subsector.str.lower()\n",
    "    "
   ]
  },
  {
   "cell_type": "markdown",
   "metadata": {},
   "source": [
    "### Old"
   ]
  },
  {
   "cell_type": "code",
   "execution_count": 42,
   "metadata": {},
   "outputs": [
    {
     "data": {
      "text/html": [
       "<div>\n",
       "<style scoped>\n",
       "    .dataframe tbody tr th:only-of-type {\n",
       "        vertical-align: middle;\n",
       "    }\n",
       "\n",
       "    .dataframe tbody tr th {\n",
       "        vertical-align: top;\n",
       "    }\n",
       "\n",
       "    .dataframe thead th {\n",
       "        text-align: right;\n",
       "    }\n",
       "</style>\n",
       "<table border=\"1\" class=\"dataframe\">\n",
       "  <thead>\n",
       "    <tr style=\"text-align: right;\">\n",
       "      <th></th>\n",
       "      <th>SYMBOL</th>\n",
       "      <th>NAME OF COMPANY</th>\n",
       "      <th>SERIES</th>\n",
       "      <th>DATE OF LISTING</th>\n",
       "      <th>PAID UP VALUE</th>\n",
       "      <th>MARKET LOT</th>\n",
       "      <th>ISIN NUMBER</th>\n",
       "      <th>FACE VALUE</th>\n",
       "    </tr>\n",
       "  </thead>\n",
       "  <tbody>\n",
       "    <tr>\n",
       "      <th>0</th>\n",
       "      <td>20MICRONS</td>\n",
       "      <td>20 Microns Limited</td>\n",
       "      <td>EQ</td>\n",
       "      <td>06-OCT-2008</td>\n",
       "      <td>5</td>\n",
       "      <td>1</td>\n",
       "      <td>INE144J01027</td>\n",
       "      <td>5</td>\n",
       "    </tr>\n",
       "    <tr>\n",
       "      <th>1</th>\n",
       "      <td>21STCENMGM</td>\n",
       "      <td>21st Century Management Services Limited</td>\n",
       "      <td>EQ</td>\n",
       "      <td>03-MAY-1995</td>\n",
       "      <td>10</td>\n",
       "      <td>1</td>\n",
       "      <td>INE253B01015</td>\n",
       "      <td>10</td>\n",
       "    </tr>\n",
       "    <tr>\n",
       "      <th>2</th>\n",
       "      <td>3IINFOTECH</td>\n",
       "      <td>3i Infotech Limited</td>\n",
       "      <td>EQ</td>\n",
       "      <td>22-APR-2005</td>\n",
       "      <td>10</td>\n",
       "      <td>1</td>\n",
       "      <td>INE748C01020</td>\n",
       "      <td>10</td>\n",
       "    </tr>\n",
       "    <tr>\n",
       "      <th>3</th>\n",
       "      <td>3MINDIA</td>\n",
       "      <td>3M India Limited</td>\n",
       "      <td>EQ</td>\n",
       "      <td>13-AUG-2004</td>\n",
       "      <td>10</td>\n",
       "      <td>1</td>\n",
       "      <td>INE470A01017</td>\n",
       "      <td>10</td>\n",
       "    </tr>\n",
       "    <tr>\n",
       "      <th>4</th>\n",
       "      <td>3PLAND</td>\n",
       "      <td>3P Land Holdings Limited</td>\n",
       "      <td>EQ</td>\n",
       "      <td>19-JUL-1995</td>\n",
       "      <td>2</td>\n",
       "      <td>1</td>\n",
       "      <td>INE105C01023</td>\n",
       "      <td>2</td>\n",
       "    </tr>\n",
       "  </tbody>\n",
       "</table>\n",
       "</div>"
      ],
      "text/plain": [
       "       SYMBOL                           NAME OF COMPANY  SERIES  \\\n",
       "0   20MICRONS                        20 Microns Limited      EQ   \n",
       "1  21STCENMGM  21st Century Management Services Limited      EQ   \n",
       "2  3IINFOTECH                       3i Infotech Limited      EQ   \n",
       "3     3MINDIA                          3M India Limited      EQ   \n",
       "4      3PLAND                  3P Land Holdings Limited      EQ   \n",
       "\n",
       "   DATE OF LISTING   PAID UP VALUE   MARKET LOT   ISIN NUMBER   FACE VALUE  \n",
       "0      06-OCT-2008               5            1  INE144J01027            5  \n",
       "1      03-MAY-1995              10            1  INE253B01015           10  \n",
       "2      22-APR-2005              10            1  INE748C01020           10  \n",
       "3      13-AUG-2004              10            1  INE470A01017           10  \n",
       "4      19-JUL-1995               2            1  INE105C01023            2  "
      ]
     },
     "execution_count": 42,
     "metadata": {},
     "output_type": "execute_result"
    }
   ],
   "source": [
    "df = pd.read_csv('EQUITY_L.csv')\n",
    "df.head()"
   ]
  },
  {
   "cell_type": "code",
   "execution_count": 43,
   "metadata": {},
   "outputs": [
    {
     "name": "stdout",
     "output_type": "stream",
     "text": [
      "bank of baroda\n",
      "bank of india\n",
      "canara bank\n",
      "central bank of india\n",
      "general insurance corporation of india\n",
      "indian bank\n",
      "indian overseas bank\n",
      "bank of maharashtra\n",
      "punjab national bank\n",
      "punjab & sind bank\n",
      "state bank of india\n",
      "uco bank\n",
      "union bank of india\n",
      "['20 microns', '21st century management services', '3i infotech', '3m india', '3p land holdings', '5paisa capital', '63 moons technologies', '8k miles software services', 'a2z infra engineering', 'aarti drugs', 'aarti industries', 'aarvee denims & exports', 'aavas financiers', 'aban offshore', 'abb india', 'abbott india', 'aditya birla capital', 'aditya birla fashion and retail', 'abm international', 'acc', 'accelya solutions india', 'action construction equipment', 'adani enterprises', 'adani gas', 'adani green energy', 'adani ports and special economic zone', 'adani power', 'adani transmission', 'adf foods', 'adhunik industries', 'ador welding', 'adroit infotech', 'allied digital services', 'advani hotels & resorts (india)', 'advanced enzyme technologies', 'aegis logistics', 'affle (india)', 'agarwal industrial corporation', 'agc networks', 'agri-tech (india)', 'agro phos india', 'asian hotels (east)', 'ahluwalia contracts (india)', 'asian hotels (west)', 'aia engineering', 'monnet ispat & energy', 'airan', 'ajanta pharma', 'ajmera realty & infra india', 'akash infra-projects', 'aksharchem india', 'aksh optifibre', 'akzo nobel india', 'alankit', 'albert david', 'alchemist', 'alembic', 'alicon castalloy', 'alkali metals', 'alkem laboratories', 'alkyl amines chemicals', 'allcargo logistics', 'allsec technologies', 'almondz global securities', 'alok industries', 'alpa laboratories', 'alphageo (india)', 'alps industries', 'amara raja batteries', 'amber enterprises india', 'ambika cotton mills', 'ambuja cements', 'amd industries', 'amj land holdings', 'amrutanjan health care', 'anant raj', 'andhra cements', 'andhra paper', 'the andhra sugars', 'anik industries', 'ankit metal & power', 'ansal properties & infrastructure', 'ansal housing', 'the anup engineering', 'apar industries', 'anjani portland cement', 'apcotex industries', 'apex frozen foods', 'apl apollo tubes', 'alembic pharmaceuticals', 'apollo micro systems', 'apollo hospitals enterprise', 'apollo pipes', 'apollo tyres', 'apollo sindoori hotels', 'aptech', 'archidply industries', 'archies', 'arcotech', 'rajdarshan industries', 'aries agro', 'arihant foundations & housing', 'arihant superstructures', 'arman financial services', 'aro granite industries', 'arrow greentech', 'arshiya', 'arss infrastructure projects', 'artemis medicare services', 'arvind', 'arvind fashions', 'arvind smartspaces', 'asahi india glass', 'asahi songwon colors', 'automotive stampings and assemblies', 'associated alcohols & breweries', 'ashapura minechem', 'ashiana housing', 'ashima', 'ashoka buildcon', 'ashok leyland', 'asian hotels (north)', 'asian paints', 'asian granito india', 'aspinwall and company', 'astec lifesciences', 'aster dm healthcare', 'astral poly technik', 'astra microwave products', 'astrazeneca pharma india', 'astron paper & board mill', 'agro tech foods', 'atlanta ', 'atlas cycles (haryana)', 'atn international', 'atul', 'atul auto', 'au small finance bank', 'aurionpro solutions', 'aurobindo pharma', 'ausom enterprise', 'automotive axles', 'autoline industries', 'autolite (india)', 'avadh sugar & energy', 'avanti feeds', 'avt natural products', 'axis bank', 'axiscades engineering technologies', 'aym syntex', 'bafna pharmaceuticals', 'b.a.g films and media', 'bajaj auto', 'bajaj consumer care', 'bajaj electricals', 'bajaj finserv', 'bajaj hindusthan sugar', 'bajaj holdings & investment', 'bajaj finance', 'balaji telefilms', 'balaji amines', 'balaxi ventures', 'balkrishna paper mills', 'balkrishna industries', 'ballarpur industries', 'balmer lawrie & company', 'bal pharma', 'balrampur chini mills', 'banaras beads', 'bannari amman sugars', 'banco products (i)', 'bandhan bank', 'bang overseas', 'bank of baroda', 'bank of india', 'banswara syntex', 'bartronics india', 'basf india', 'bannari amman spinning mills', 'bata india', 'bayer cropscience', 'bharat bijlee', 'bombay burmah trading corporation', 'brightcom group', 'b.c. power controls', 'bharat dynamics', 'beardsell', 'bedmutha industries', 'bharat electronics', 'beml', 'bhansali engineering polymers', 'berger paints (i)', 'bf investment', 'bf utilities', 'bgr energy systems', 'bhageria industries', 'bhagyanagar india', 'bhagyanagar properties', 'bhandari hosiery exports', 'bharat forge', 'bharat gears', 'bharat rasayan', 'bharat wire ropes', 'bharti airtel', 'bharat heavy electricals', 'bigbloc construction', 'bhartiya international', 'bil energy systems', 'binani industries', 'oswal chemicals & fertilizers', 'biocon', 'biofil chemicals & pharmaceuticals', 'birla cable', 'birla corporation', 'aditya birla money', 'birla tyres', 'bkm industries', 'blb', 'bliss gvs pharma', 'b. l. kashyap and sons', 'bls international services', 'blue blends (i)', 'blue chip india', 'blue coast hotels', 'blue dart express', 'blue star', 'bodal chemicals', 'bombay dyeing & mfg company', 'borosil renewables', 'bosch', 'bharat petroleum corporation', 'bpl', 'bombay rayon fashions', 'brigade enterprises', 'britannia industries', 'bharat road network', 'brooks laboratories', 'bse', 'bsel infrastructure realty', 'bsl', 'birlasoft', 'burnpur cement', 'butterfly gandhimathi appliances', 'barak valley cements', 'the byke hospitality', 'cadila healthcare', 'california software company', 'camlin fine sciences', 'canara bank', 'c & c constructions', 'can fin homes', 'cantabil retail india', \"capacit'e infraprojects\", 'caplin point laboratories', 'capital trust', 'carborundum universal', 'career point', 'care ratings', 'castex technologies', 'castrol india', 'consolidated construction consortium', 'country club hospitality & holidays', 'ccl products (india)', 'central depository services (india)', 'ceat', 'commercial engineers & body builders co', 'celebrity fashions', 'century enka', 'century extrusions', 'central bank of india', 'centrum capital', 'centum electronics', 'century plyboards (india)', 'century textiles & industries', 'cera sanitaryware', 'cerebra integrated technologies', 'cesc', 'cesc ventures', 'capri global capital', 'cg power and industrial solutions', 'chalet hotels', 'chambal fertilizers & chemicals', 'chembond chemicals', 'chemfab alkalis', 'chennai petroleum corporation', 'cholamandalam investment and finance company', 'cholamandalam financial holdings', 'chromatic india', 'cigniti technologies', 'cimmco', 'cineline india', 'cinevista', 'cipla', 'cox & kings financial service', 'cl educate', 'clariant chemicals (india)', 'cmi', 'cil nova petrochemicals', 'coal india', 'cochin shipyard', 'coffee day enterprises', 'colgate palmolive (india)', 'compuage infocom', 'compucom software', 'container corporation of india', 'confidence petroleum india', 'consolidated finvest & holdings', 'control print', 'coral india finance & housing', 'cords cable industries', 'coromandel international', 'cosmo films', \"country condo's\", 'cox & kings', 'creative peripherals and distribution', 'creative eye', 'creditaccess grameen', 'crest ventures', 'crisil', 'crompton greaves consumer electricals', 'csb bank', 'cambridge technology enterprises', 'city union bank', 'cubex tubings', 'cummins india', 'cupid', 'cybertech systems and software', 'cyient', 'lt foods', 'dabur india', 'dalmia bharat', 'dalmia bharat sugar and industries', 'damodar industries', 'datamatics global services', 'd.b.corp', 'dilip buildcon', 'd b realty', 'db (international) stock brokers', 'dishman carbogen amcis', 'dcb bank', 'dcm ', 'dcm financial services', 'dcm nouvelle', 'dcm shriram', 'dcw', 'deccan cements', 'deepak fertilizers and petrochemicals corporation', 'deepak nitrite', 'deep industries', 'delta corp', 'delta manufacturing', 'den networks', 'de nora india', 'dfm foods', 'digicontent', 'dhampur sugar mills', 'dhanlaxmi bank', 'dhanuka agritech', 'dharani sugars & chemicals', 'dewan housing finance corporation', 'dhunseri investments', 'prataap snacks', 'diamond power infra', 'dic india', 'digispice technologies', 'digjam', 'dish tv india', \"divi's laboratories\", 'dixon technologies (india)', 'dlf', 'd-link (india)', 'avenue supermarts', 'diligent media corporation', 'dolat investments', 'dollar industries', 'dolphin offshore enterprises (india)', 'donear industries', 'dpsc', 'd p wires', 'dq entertainment (international)', 'dredging corporation of india', \"dr. reddy's laboratories\", 'dynacons systems & solutions', 'dhunseri tea & industries', 'ducon infratechnologies', 'dhunseri ventures', 'dwarikesh sugar industries', 'dynamatic technologies', 'dynemic products', 'eastern silk industries', 'easun reyrolle', 'ebixcash world money india', 'eclerx services', 'edelweiss financial services', 'empee distilleries', 'educomp solutions', 'eicher motors', 'eid parry india', 'eih associated hotels', 'eih', 'eimco elecon (india)', 'everest kanto cylinder', 'elecon engineering company', 'electrosteel castings', 'electrotherm (india)', 'elgi equipments', 'elgi rubber company', 'emami', 'emami paper mills', 'emami realty', 'emco', 'emkay global financial services', 'emmbi industries', 'endurance technologies', 'energy development company', 'engineers india', 'entertainment network (india)', 'eon electric', 'equitas holdings', 'eris lifesciences', 'eros international media', 'esab india', 'escorts', 'essar shipping', 'essel propack', 'ester industries', 'euro ceramics', 'euro multivision', 'eurotex industries and exports', 'eveready industries india', 'everest industries', 'excel realty n infra', 'excel industries', 'exide industries', 'expleo solutions', 'fertilizers and chemicals travancore', 'fairchem speciality', 'fineotex chemical', 'future consumer', 'fcs software solutions', 'fdc', 'the federal bank ', 'future enterprises', 'future enterprises', 'fiem industries', 'filatex india', 'finolex cables', 'fine organic industries', 'finolex industries', 'flexituff ventures international', 'future lifestyle fashions', 'gujarat fluorochemicals', 'federal-mogul goetze (india)', 'future market networks', 'force motors', 'fortis healthcare', 'foseco india', 'future retail', 'future supply chain solutions', 'firstsource solutions', 'gabriel india', 'gujarat ambuja exports', 'gail (india)', 'gyscoal alloys', 'galaxy surfactants', 'gallantt metal', 'gallantt ispat', 'gammon infrastructure projects', 'gandhi special tubes', 'ganesha ecosphere', 'ganesh housing corporation', 'ganges securities', 'garden silk mills', 'garware technical fibres', 'gati', 'gayatri highways', 'gayatri projects', 'gb global', 'gateway distriparks', 'geecee ventures', 'geekay wires', 'genesys international corporation', 'genus paper & boards', 'genus power infrastructures', 'geojit financial services', 'ge power india', 'the great eastern shipping company', 'ge t&d india', 'gfl', 'grand foundry', 'ghcl', 'gic housing finance', 'general insurance corporation of india', 'gillanders arbuthnot & company', 'gillette india', 'ginni filaments', 'gujarat industries power company', 'gi engineering solutions', 'gkw', 'glaxosmithkline pharmaceuticals', 'glenmark pharmaceuticals', 'gujarat lease financing', 'global vectra helicorp', 'global offshore services', 'globus spirits', 'gm breweries', 'gujarat mineral development corporation', 'gmm pfaudler', 'gmr infrastructure', 'gna axles', 'gujarat narmada valley fertilizers and chemicals', 'goa carbon', 'gocl corporation', 'godfrey phillips india', 'godrej agrovet', 'godrej consumer products', 'godrej industries', 'godrej properties', 'goenka diamond and jewels', 'gokaldas exports', 'gokul refoils and solvent', 'gokul agro resources', 'golden tobacco', 'goldiam international', 'goldstone technologies', 'goodluck india', 'godawari power and ispat', 'gujarat pipavav port', 'gpt infraprojects', 'granules india', 'graphite india', 'grasim industries', 'gravita india', 'greaves cotton', 'greenlam industries', 'greenpanel industries', 'greenply industries', 'orient green power company', 'grindwell norton', 'the grob tea company', 'grp', 'garden reach shipbuilders & engineers', 'gujarat sidhee cement', 'gujarat state fertilizers & chemicals', 'gujarat state petronet', 'gss infotech', 'gtl', 'gtl infrastructure', 'gtn industries', 'gtn textiles', 'gtpl hathway', 'gufic biosciences', 'gujarat alkalies and chemicals', 'gujarat apollo industries', 'gujarat gas', 'gujarat raffia industries', 'gulf oil lubricants india', 'gp petroleums', 'gulshan polyols', 'gvk power & infrastructure', 'hindustan aeronautics', 'harita seating systems', 'harrisons  malayalam', 'hathway cable & datacom', 'hatsun agro product', 'havells india', 'sri havisha hospitality and infrastructure', 'hbl power systems', 'hb stockholdings', 'hindustan construction company', 'healthcare global enterprises', 'hcl infosystems', 'hcl technologies', 'housing development finance corporation', 'hdfc asset management company', 'hdfc bank', 'hdfc life insurance company', 'housing development and infrastructure', 'heg', 'heidelbergcement india', 'hercules hoists', 'heritage foods', 'hero motocorp', 'hester biosciences', 'hexa tradex', 'hexaware technologies', 'hfcl', 'h.g. infra engineering', 'hinduja global solutions', 'high ground enterprise', 'hikal', 'hil', 'hilton metal forging', 'himatsingka seide', 'hindalco industries', 'hindustan composites', 'hindustan copper', 'hindustan motors', 'hindusthan national glass & industries', 'hindustan oil exploration company', 'hindustan petroleum corporation', 'hindustan unilever', 'hindustan zinc', 'hind rectifiers', 'hisar metal industries', 'hi-tech pipes', 'hitech corporation', 'the hi-tech gears', 'hlv', 'hmt', 'hindustan media ventures', 'hindustan foods', 'honeywell automation india', 'honda siel power products', 'hotel rugby', 'hov services', 'hpl electric & power', 'himadri speciality chemical', 'hsil', 'ht media', 'hubtown', 'housing & urban development corporation', 'indiabulls real estate', 'indiabulls housing finance', 'indiabulls integrated services', 'indiabulls ventures', 'icici bank', 'icici lombard general insurance company', 'icici prudential life insurance company', 'indo count industries', 'icra', 'idbi bank', 'vodafone idea', 'idfc', 'idfc first bank', 'indian energy exchange', 'ifb agro industries', 'ifb industries', 'ifci', 'ifgl refractories', 'igarashi motors india', 'indraprastha gas', 'ig petrochemicals', 'iifl finance', 'iifl securities', 'iifl wealth management', 'industrial investment trust', 'il&fs engineering and construction company', 'il&fs transportation networks', 'imagicaaworld entertainment', 'indian metals & ferro alloys', 'india motor parts and accessories', 'impex ferro tech', 'indbank merchant banking services', 'the indian hotels company', 'the india cements', 'india glycols', 'indiamart intermesh', 'indian bank', 'indian card clothing company', 'indian hume pipe company', 'interglobe aviation', 'imp powers', 'india nippon electricals', 'indoco remedies', 'indo rama synthetics (india)', 'indosolar', 'indostar capital finance', 'indo tech transformers', 'indo thai securities', 'indowind energy', 'indraprastha medical corporation', 'ind-swift laboratories', 'ind-swift', 'indian terrain fashions', 'indusind bank', 'ineos styrolution india', 'infibeam avenues', 'infobeans technologies', 'infomedia press', 'bharti infratel', 'infosys', 'ingersoll rand (india)', 'inox leisure', 'inox wind', 'insecticides (india)', 'inspirisys solutions', 'integra garments and textiles', 'intellect design arena', 'intense technologies', 'inventure growth & securities', 'indian overseas bank', 'indian oil corporation', 'iol chemicals and pharmaceuticals', 'ipca laboratories', 'irb infrastructure developers', 'ircon international', 'indian railway catering and tourism corporation', 'icici securities', 'intrasoft technologies', 'ismt', 'itc', 'india tourism development corporation', 'itd cementation india', 'iti', 'il&fs investment managers', 'ivp', 'izmo', 'the jammu & kashmir bank', 'jagran prakashan', 'jagsonpal pharmaceuticals', 'jai balaji industries', 'jai corp', 'jaihind projects', 'jain studios', 'jamna auto industries', 'jash engineering', 'jayant agro organics', 'jay bharat maruti', 'jayaswal neco industries', 'jayshree tea & industries', 'jb chemicals & pharmaceuticals', 'jbf industries', 'jbm auto', 'johnson controls - hitachi air conditioning india', 'jet airways (india)', 'jhs svendgaard laboratories', 'jik industries', 'jindal photo', 'jindal poly films', 'jindal saw', 'jindal steel & power', 'jindal drilling and industries', 'jindal worldwide', 'jain irrigation systems', 'jain irrigation systems', 'jitf infralogistics', 'jiya eco-products', 'jk cement', 'j.kumar infraprojects', 'jk lakshmi cement', 'jk paper', 'jk tyre & industries', 'jullundur motor agency (delhi)', 'jmc projects (india) ', 'jm financial', 'jmt auto', 'jocil', 'jaiprakash associates', 'jaypee infratech', 'jindal poly investment and finance company', 'jaiprakash power ventures', 'jindal stainless', 'jindal stainless (hisar)', 'jsw energy', 'jsw holdings', 'jsw steel', 'jtekt india', 'jubilant life sciences', 'jubilant foodworks', 'jubilant industries', 'jump networks', 'just dial', 'jvl agro industries', 'jyothy labs', 'jyoti structures', 'kabra extrusion technik', 'kajaria ceramics', 'kakatiya cement sugar & industries', 'kalpataru power transmission', 'kalyani commercials', 'kalyani forge', 'kamat hotels (i)', 'kamdhenu', 'kanani industries', 'kanoria chemicals & industries', 'kansai nerolac paints', 'karda constructions', 'karma energy', 'karur vysya bank', 'kaushalya infrastructure development corporation', 'kaya', 'kcp', 'kcp sugar and industries corporation', 'kddl', 'kec international', 'kirloskar electric company', 'kei industries', 'kellton tech solutions', 'kennametal india', 'kernex microsystems (india)', 'kesoram industries', 'keynote financial services', 'karuturi global', 'khadim india', 'khandwala securities', 'kalyani investment company', 'kilitch drugs (india)', 'kingfa science & technology (india)', 'kiocl', 'kiri industries', 'kirloskar ferrous industries', 'kirloskar brothers', 'kirloskar oil engines', 'kirloskar industries', 'kitex garments', 'kewal kiran clothing', 'k.m.sugar mills', 'knr constructions', 'kohinoor foods', 'kokuyo camlin', 'kolte - patil developers', 'kopran', 'kotak mahindra bank', 'kothari sugars and chemicals', 'kothari petrochemicals', 'kothari products', 'kpit technologies', 'k.p.r. mill', 'krbl', 'krebs biochemicals and industries', 'kridhan infra', 'krishana phoschem', 'ksb', 'kaveri seed company', 'kss', 'ksk energy ventures', 'kalyani steels', 'the karnataka bank', 'kuantum papers', 'kwality', 'l&t finance holdings', 'lakshmi precision screws', 'lakshmi vilas bank', 'dr. lal path labs', 'lambodhara textiles', 'la opala rg', 'lasa supergenerics', 'laurus labs', 'lakshmi machine works', 'lemon tree hotels', 'lakshmi finance & industrial corporation', 'lg balakrishnan & bros', 'lgb forge', 'libas designs', 'liberty shoes', 'lic housing finance', 'lincoln pharmaceuticals', 'linc pen & plastics', 'linde india', 'lokesh machines', 'lotus eye hospital and institute', 'lovable lingerie', 'landmark property development company', 'lloyds steels industries', 'larsen & toubro', 'larsen & toubro infotech', 'l&t technology services', 'lumax industries', 'lumax auto technologies', 'lupin', 'lux industries', 'lyka labs', 'lypsa gems & jewellery', 'mahindra & mahindra', 'mahindra & mahindra financial services', 'maan aluminium', 'madhav marbles and granites', 'madhucon projects', 'madras fertilizers', 'magadh sugar & energy', 'magma fincorp', 'magnum ventures', 'bank of maharashtra', 'maha rashtra apex corporation', 'mahamaya steel industries', 'mahindra epc irrigation', 'maheshwari logistics', 'mahindra cie automotive', 'mahindra lifespace developers', 'mahindra logistics', 'maharashtra scooters', 'maharashtra seamless', 'maithan alloys', 'majesco', 'malu paper mills', 'manaksia aluminium company', 'manaksia coated metals & industries', 'manaksia', 'manaksia steels', 'manali petrochemicals', 'manappuram finance', 'mangalam drugs and organics', 'mangalore chemicals & fertilizers', 'mangalam cement', 'mangalam timber products', 'man industries (india)', 'man infraconstruction', 'manpasand beverages', 'manugraph india', 'maral overseas', 'marathon nextgen realty', 'marico', 'marksans pharma', 'maruti suzuki india', 'mas financial services', 'mask investments', 'mastek', 'matrimony.com', 'mawana sugars', 'max india', 'max ventures and industries', 'mayur uniquoters', 'mazda', 'madhya bharat agro products', 'mcnally bharat engineering company', 'mbl infrastructures', 'mcdowell holdings', 'united spirits', 'mcleod russel india', 'multi commodity exchange of india', 'megasoft', 'meghmani organics', 'melstar information technologies', 'menon bearings', 'mep infrastructure developers', 'mercator', 'metalyst forgings', 'metkore alloys & industries', 'metropolis healthcare', 'max financial services', 'mahanagar gas', 'mahindra holidays & resorts india', 'mic electronics', 'mishra dhatu nigam', 'minda corporation', 'minda industries', 'mindteck (india)', 'mindtree', 'mirc electronics', 'mirza international', 'mittal life style', 'mm forgings', 'mmp industries', 'mmtc', 'modi rubber', 'mohit industries', 'mohota industries', 'moil', 'mold-tek technologies', 'mold-tek packaging', 'monte carlo fashions', 'morarjee textiles', 'morepen laboratories', 'motherson sumi systems', 'motilal oswal financial services', 'the motor & general finance', 'mphasis', 'mps', 'mrf', 'mro-tek realty', 'mangalore refinery and petrochemicals', 'msp steel & power', 'mstc', 'mt educare', 'mahanagar telephone nigam', 'mukand engineers', 'mukand', 'mukta arts', 'munjal auto industries', 'munjal showa', 'murudeshwar ceramics', 'muthoot capital services', 'muthoot finance', 'nacl industries', 'nagarjuna fertilizers and chemicals', 'nagreeka capital & infrastructure', 'nagreeka exports', 'nahar capital and financial services', 'nahar industrial enterprises', 'nahar poly films', 'nahar spinning mills', 'nippon life india asset management', 'natco pharma', 'nath bio-genes (india)', 'national aluminium company', 'national steel and agro industries', 'info edge (india)', 'navin fluorine international', 'navkar corporation', 'navneet education', 'nbcc (india)', 'n. b. i. industrial finance company', 'nava bharat ventures', 'ncc', 'ncl industries', 'naga dhunseri group', 'nandan denim', 'new delhi television', 'north eastern carrying corporation', 'nectar lifesciences', 'nelcast', 'nelco', 'neogen chemicals', 'nesco', 'nestle india', 'network18 media & investments', 'neuland laboratories', 'newgen software technologies', 'next mediaworks', 'national fertilizers', 'narayana hrudayalaya', 'nhpc', 'the new india assurance company', 'nrb industrial bearings', 'niit', 'niit technologies', 'nila infrastructures', 'nila spaces', 'nilkamal', 'indo-national', 'niraj ispat industries', 'nitco', 'nitin fire protection industries', 'nitin spinners', 'nk industries', 'nlc india', 'nmdc', 'nocil', 'noida toll bridge company', 'norben tea & exports', 'n r agarwal industries', 'nrb bearing', 'nalwa sons investments', 'neueon towers', 'ntpc', 'nucleus software exports', 'nxtdigital', 'oriental aromatics', 'oberoi realty', 'oriental carbon & chemicals', 'oracle financial services software', 'oil india', 'oil country tubular', 'ocl iron and steel', 'olectra greentech', 'omax autos', 'omaxe', 'omkar speciality chemicals', 'om metals infraprojects', 'onelife capital advisors', 'one point one solutions', 'oil & natural gas corporation', 'onmobile global', 'onward technologies', 'optiemus infracom', 'opto circuits (india)', 'orbit exports', 'oricon enterprises', 'orient abrasives', 'oriental trimex', 'orient bell', 'orient cement', 'orient electric', 'oriental hotels', 'orient press', 'orient paper & industries', 'orient refractories', 'the orissa minerals development company', 'ortel communications', 'ortin laboratories', 'oswal agro mills', 'pae', 'page industries', 'paisalo digital', 'palash securities', 'palred technologies', 'panacea biotec', 'panache digilife', 'panama petrochem', 'huhtamaki ppl', 'parabolic drugs', 'paramount communications', 'parag milk foods', 'parsvnath developers', 'patel engineering', 'patel integrated logistics', 'patspin india', 'pc jeweller', 'pudumjee paper products', 'pds multinational fashions', 'pearl polymers', 'piramal enterprises', 'pennar industries', 'peninsula land', 'persistent systems', 'petronet lng', 'power finance corporation', 'pfizer', 'prime focus', 'ptc india financial services', 'pg electroplast', 'procter & gamble hygiene and health care', 'procter & gamble health', 'pearl global industries', 'phillips carbon black', 'the phoenix mills', 'pidilite industries', 'pi industries', 'pilani investment and industries corporation', 'pil italica lifestyle', 'pioneer distilleries', 'pioneer embroideries', 'pitti engineering', 'the peria karamalai tea & produce company', 'plastiblends india', 'punjab national bank', 'pnb gilts', 'pnb housing finance', 'pritish nandy communications', 'pnc infratech', 'poddar housing and development', 'poddar pigments', 'pokarna', 'polycab india', 'poly medicure', 'polyplex corporation', 'ponni sugars (erode)', 'power grid corporation of india', 'abb power products and systems india', 'power mech projects', 'ppap automotive', 'prakash pipes', 'prabhat dairy', 'pradip overseas', 'prajay engineers syndicate', 'praj industries', 'prakash industries', 'prakash steelage', 'praxis home retail', 'precision camshafts', 'precot meridian', 'precision wires india', 'premier explosives', 'premier', 'premier polyfilm', 'pressman advertising', 'prestige estates projects', 'pricol', 'prime securities', 'prince pipes and fittings', 'proseed india', 'prozone intu properties', 'prism johnson', 'punjab & sind bank', 'psl', 'psp projects', 'ptc india', 'ptl enterprises', 'punjab chemicals & crop protection', 'punj lloyd', 'puravankara', 'pvr', 'quess corp', 'quick heal technologies', 'radaan mediaworks india', 'radico khaitan', 'music broadcast', 'rain industries', 'rajesh exports', 'raj rayon industries', 'rajshree sugars & chemicals', 'raj television network', 'rallis india', 'shree rama newsprint', 'rama steel tubes', 'the ramco cements', 'ramco industries', 'ramco systems', 'ramky infrastructure', 'ramsarup industries', 'rana sugars', 'rane engine valve', 'rane holdings', 'ratnamani metals & tubes', 'raymond', 'rane brake lining', 'rbl bank', 'rashtriya chemicals and fertilizers', 'reliance communications', 'rec', 'redington (india)', 'refex industries', 'relaxo footwears', 'reliance capital', 'reliance industries', 'religare enterprises', 'reliance infrastructure', 'remsons industries', 'shree renuka sugars', 'repco home finance', 'repro india', 'responsive industries', 'revathi equipment', 'renaissance global', 'reliance home finance', 'rico auto industries', 'reliance industrial infrastructure', 'rites', 'ravi kumar distilleries', 'ramkrishna forgings', 'radha madhav corporation', 'rane (madras)', 'reliance naval and engineering', 'rohit ferro-tech', 'royal orchid hotels', 'rollatainers', 'rolta india', 'rossell india', 'rpg life sciences', 'reliance power', 'r.p.p. infra projects', 'r. s. software (india)', 'rswm', 'r systems international', 'rattanindia infrastructure', 'rattanindia power', 'the ruby mills', 'ruchi soya industries', 'ruchi infrastructure', 'ruchira papers', 'rupa & company', 'rushil decor', 'rail vikas nigam', 's&s power switchgears', 'sab events & governance now media', 'sri adhikari brothers television network', 'sadbhav engineering', 'sadbhav infrastructure project', 'safari industries (india)', 'sagardeep alloys', 'sagar cements', 'steel authority of india', 'sakar healthcare', 'sakthi sugars', 'saksoft', 'sakuma exports', 'salasar techno engineering', 'salona cotspin', 's.a.l. steel', 'salzer electronics', 'sambhaav media', 'sanco industries', 'the sandesh', 'sandhar technologies', 'sangam (india)', 'sanghi industries', 'sanghvi forging and engineering', 'sanghvi movers', 'sanginita chemicals', 'sanofi india', 'sanwaria consumer', 'sarda energy & minerals', 'saregama india', 'sarla performance fibers', 'sasken technologies', 'sastasundar ventures', 'sathavahana ispat', 'satia industries', 'satin creditcare network', 'sbi cards and payment services', 'sbi life insurance company', 'state bank of india', 'stampede capital', 'schaeffler india', 's chand and company', 'schneider electric infrastructure', 'shipping corporation of india', 'som distilleries & breweries', 'seamec', 'selan exploration technology', 'sel manufacturing company', 's.e. power', 'sequent scientific', 'seshasayee paper and boards', 'setco automotive', 'setubandhan infrastructure', 'seya industries', 'sezal glass', 'sheela foam', 'stl global', 'shah alloys', 'shakti pumps (india)', 'shalby', 'shalimar paints', 'shankara building products', 'shanthi gears', 'sharda cropchem', 'sharda motor industries', 'shemaroo entertainment', 'somany home innovation', 'shilpa medicare', 'shirpur gold refinery', 'shivam autotech', 'shiva mills', 'shiva texyarn', 's h kelkar and company', 'shoppers stop', 'shree digvijay cement co', 'shree cement', 'shree pushkar chemicals & fertilisers', 'shree rama multi-tech', 'shrenik', 'shreyans industries', 'shreyas shipping & logistics', 'shriram pistons & rings', 'shriram city union finance', 'shriram epc', 'shyam century ferrous', 'shyam telecom', 'sicagen india', 'sical logistics', 'siemens', 'signet industries', 'standard industries', 'sil investments', 'simbhaoli sugars', 'simplex infrastructures', 'sintex industries', 'sirca paints india', 'security and intelligence services (india)', 'siti networks', 'siyaram silk mills', 'sjvn', 'skf india', 'skil infrastructure', 'skipper', 'skm egg products export (india)', 'smartlink holdings', 'sml isuzu', 'splendid metal products', 'sms lifesciences india', 'sms pharmaceuticals', 'snowman logistics', 'sobha', 'solara active pharma sciences', 'solar industries india', 'somany ceramics', 'soma textiles & industries', 'somi conveyor beltings', 'sonata software', 'soril infra resources', 'savita oil technologies', 'the south indian bank', 'south west pinnacle exploration', 's. p. apparels', 'spandana sphoorty financial', 'sun pharma advanced research company', 'spacenet enterprises india', 'speciality restaurants', \"spencer's retail\", 'spentex industries', 'southern petrochemicals industries corporation ', 'spicejet', 'spl industries', 'spml infra', 'sintex plastics technology', 'shekhawati poly-yarn', 'sreeleathers', 'srei infrastructure finance', 'srf', 'sree rayalaseema hi-strength hypo', 'srikalahasthi pipes', 'shriram transport finance company', 'steel strips wheels', 'stampede capital', 'strides pharma science', 'star cement', 'star paper mills', 'the state trading corporation of india', 'steel city securities', 'steel exchange india', 'stel holdings', 'sterling tools', 'sti india', 'sterlite technologies', 'international constructions', 'subex', 'subros', 'sudarshan chemical industries', 'sujana universal industries', 'sumeet industries', 'sumitomo chemical india', 'sumit woods', 'summit securities', 'sundaram clayton', 'sundaram multi pap', 'sundaram finance', 'sundaram finance holdings', 'sundaram brake linings', 'sundram fasteners', 'sunflag iron and steel company', 'sun pharmaceutical industries', 'sunteck realty', 'sun tv network', 'superhouse', 'super spinning mills', 'supreme petrochem', 'suprajit engineering', 'supreme industries', 'supreme infrastructure india', 'surana solar', 'surana telecom and power', 'suryalakshmi cotton mills', 'surya roshni', 'sutlej textiles and industries', 'suven life sciences', 'suven pharmaceuticals', 'suzlon energy', 'swan energy', 'swaraj engines', 'swelect energy systems', 'sterling and wilson solar', 'symphony', 'syncom healthcare', 'syngene international', 'tainwala chemical and plastic (i)', 'taj gvk hotels & resorts', 'take solutions', 'talbros automotive components', 'talwalkars better value fitness', 'talwalkars healthclubs', 'tanla solutions', 'tantia constructions', 'tarmat', 'tasty bite eatables', 'tata chemicals', 'tata coffee', 'tata communications', 'tata consumer products', 'tata elxsi', 'tata investment corporation', 'tata metaliks', 'tata motors', 'tata motors', 'tata power company', 'tata steel', 'tata steel bsl', 'tata steel long products', 'tribhovandas bhimji zaveri', 'transport corporation of india', 'tci developers', 'tci express', 'tci finance', 'tcns clothing co.', 'tcpl packaging', 'tata consultancy services', 'td power systems', 'teamlease services', 'techindia nirman', 'tech mahindra', 'techno electric & engineering company', 'technofab engineering', 'tejas networks', 'tera software', 'texmaco infrastructure & holdings', 'texmo pipes and products', 'texmaco rail & engineering', 'tourism finance corporation of india', 'transwarranty finance', 'tgb banquets and hotels', 'thangamayil jewellery', 'the investment trust of india', 'themis medicare', 'thermax', 'thiru arooran sugars', 'thomas cook  (india) ', 'thomas scott (india)', 'thyrocare technologies', 'tilaknagar industries', 'tide water oil company (india)', 'technocraft industries (india)', 'tube investments of india', 'tijaria polypipes', 'til', 'times guaranty', 'time technoplast', 'timken india', 'the tinplate company of india', 'tips industries', 'thirumalai chemicals', 'titan company', 'the mandhana retail ventures', 'tamilnadu petroproducts', 'tamil nadu newsprint & papers', 'tamilnadu telecommunication', 'tokyo plast international', 'torrent pharmaceuticals', 'torrent power', 'touchwood entertainment', 'tpl plastech', 'tree house education & accessories', 'trejhara solutions', 'trent', 'trf', 'trident', 'trigyn technologies', 'transformers and rectifiers (india)', 'triveni turbine', 'triveni engineering & industries', 'ttk healthcare', 'ttk prestige', 't t', 'tata teleservices (maharashtra)', 'tv18 broadcast', 'tvs electronics', 'tvs motor company', 'tvs srichakra', 'tv today network', 'tv vision', 'titagarh wagons', 'united breweries', 'ucal fuel systems', 'uco bank', 'uflex', 'ufo moviez india', 'the ugar sugar works', 'ujaas energy', 'ujjivan financial services', 'ujjivan small finance bank', 'ultratech cement', 'umang dairies', 'usha martin education & solutions', 'unichem laboratories', 'uniphos enterprises', 'union bank of india', 'uniply industries', 'unitech', 'the united nilgiri tea estates company', 'unity infraprojects', 'universal cables', 'universus photo imagings', 'upl', 'urja global', 'usha martin', 'uttam galva steels', 'uttam sugar mills', 'uttam value steels', 'v2 retail', 'vadilal industries', 'vaibhav global', 'vaishali pharma', 'vakrangee', 'vardhman acrylics', 'vardhman polytex', 'varroc engineering', 'vascon engineers', 'vaswani industries', 'varun beverages', 'vedanta', \"venky's (india)\", 'venus remedies', 'vertoz advertising', 'vesuvius india', 'veto switchgears and cables', 'v-guard industries', 'vardhman holdings', 'viceroy hotels', 'videocon industries', 'vidhi specialty food ingredients', 'viji finance', 'vikas ecotech', 'vikas multicorp', 'vikas proppant & granite', 'vikas wsp', 'vimta labs', 'vinati organics', 'vindhya telelinks', 'vinyl chemicals (india)', 'vip clothing', 'vip industries', 'vipul', 'visaka industries', 'visa steel', 'vishal fabrics', 'vishnu chemicals', 'vishwaraj sugar industries', 'visagar polytex', 'vivimed labs', 'vls finance', 'v-mart retail', 'voltamp transformers', 'voltas', 'vrl logistics', 'vardhman special steels', 'vst industries', 'v.s.t tillers tractors', 'vardhman textiles', 'va tech wabag', 'wabco india', 'walchandnagar industries', 'wanbury', 'waterbase', 'websol energy system', 'weizmann', 'welspun corp', 'welspun enterprises', 'welspun investments and commercials', 'welspun india', 'wendt (india)', 'westlife development', 'wheels india', 'whirlpool of india', 'williamson magor & company', 'windsor machines', 'winsome yarns', 'the western india plywoods', 'wipro', 'wockhardt', 'wonderla holidays', 'w s industries (i)', 'west coast paper mills', 'xchanging solutions', 'xelpmoc design and tech', 'xpro india', 'yes bank', 'zee entertainment enterprises', 'zee learn', 'zee media corporation', 'zenith birla (india)', 'zenith exports', 'zensar technologies', 'zen technologies', 'zicom electronic security systems', 'zodiac clothing company', 'zodiac jrd- mkj', 'zota health care', 'zuari agro chemicals', 'zuari global', 'zydus wellness']\n"
     ]
    }
   ],
   "source": [
    "companies = list(df['NAME OF COMPANY'].values)\n",
    "cleaned_companies = clean_companies(companies)\n",
    "print(cleaned_companies)"
   ]
  },
  {
   "cell_type": "markdown",
   "metadata": {},
   "source": [
    "### New"
   ]
  },
  {
   "cell_type": "code",
   "execution_count": 69,
   "metadata": {},
   "outputs": [
    {
     "data": {
      "text/html": [
       "<div>\n",
       "<style scoped>\n",
       "    .dataframe tbody tr th:only-of-type {\n",
       "        vertical-align: middle;\n",
       "    }\n",
       "\n",
       "    .dataframe tbody tr th {\n",
       "        vertical-align: top;\n",
       "    }\n",
       "\n",
       "    .dataframe thead th {\n",
       "        text-align: right;\n",
       "    }\n",
       "</style>\n",
       "<table border=\"1\" class=\"dataframe\">\n",
       "  <thead>\n",
       "    <tr style=\"text-align: right;\">\n",
       "      <th></th>\n",
       "      <th>Symbol</th>\n",
       "      <th>Sector</th>\n",
       "      <th>Subsector</th>\n",
       "      <th>Company</th>\n",
       "      <th>beta</th>\n",
       "    </tr>\n",
       "  </thead>\n",
       "  <tbody>\n",
       "    <tr>\n",
       "      <th>0</th>\n",
       "      <td>20MICRONS</td>\n",
       "      <td>Basic Materials</td>\n",
       "      <td>Other Industrial Metals &amp; Mining</td>\n",
       "      <td>20 Microns Limited</td>\n",
       "      <td>0.783931</td>\n",
       "    </tr>\n",
       "    <tr>\n",
       "      <th>1</th>\n",
       "      <td>3IINFOTECH</td>\n",
       "      <td>Technology</td>\n",
       "      <td>Information Technology Services</td>\n",
       "      <td>3i Infotech Limited</td>\n",
       "      <td>1.167706</td>\n",
       "    </tr>\n",
       "    <tr>\n",
       "      <th>2</th>\n",
       "      <td>3MINDIA</td>\n",
       "      <td>Industrials</td>\n",
       "      <td>Conglomerates</td>\n",
       "      <td>3M India Limited</td>\n",
       "      <td>0.389235</td>\n",
       "    </tr>\n",
       "    <tr>\n",
       "      <th>3</th>\n",
       "      <td>8KMILES</td>\n",
       "      <td>Technology</td>\n",
       "      <td>Software-Application</td>\n",
       "      <td>8K Miles Software Services Limited</td>\n",
       "      <td>1.102964</td>\n",
       "    </tr>\n",
       "    <tr>\n",
       "      <th>4</th>\n",
       "      <td>A2ZINFRA</td>\n",
       "      <td>Industrials</td>\n",
       "      <td>Engineering &amp; Construction</td>\n",
       "      <td>A2Z Infra Engineering Limited</td>\n",
       "      <td>0.549921</td>\n",
       "    </tr>\n",
       "  </tbody>\n",
       "</table>\n",
       "</div>"
      ],
      "text/plain": [
       "       Symbol             Sector                          Subsector  \\\n",
       "0   20MICRONS   Basic Materials    Other Industrial Metals & Mining   \n",
       "1  3IINFOTECH        Technology     Information Technology Services   \n",
       "2     3MINDIA       Industrials                       Conglomerates   \n",
       "3     8KMILES        Technology                Software-Application   \n",
       "4    A2ZINFRA       Industrials          Engineering & Construction   \n",
       "\n",
       "                              Company      beta  \n",
       "0                  20 Microns Limited  0.783931  \n",
       "1                 3i Infotech Limited  1.167706  \n",
       "2                    3M India Limited  0.389235  \n",
       "3  8K Miles Software Services Limited  1.102964  \n",
       "4       A2Z Infra Engineering Limited  0.549921  "
      ]
     },
     "execution_count": 69,
     "metadata": {},
     "output_type": "execute_result"
    }
   ],
   "source": [
    "df = pd.read_csv('finalBetaDB.csv')\n",
    "df.rename(columns={' Sector': 'Sector', ' Sub-sector':'Subsector'}, inplace=True)\n",
    "df = df.replace(np.nan, '', regex=True)\n",
    "df.head()"
   ]
  },
  {
   "cell_type": "code",
   "execution_count": 70,
   "metadata": {},
   "outputs": [],
   "source": [
    "cols = ['Sector', 'Subsector']\n",
    "for col in cols:\n",
    "    df[col] = df[col].str.strip()"
   ]
  },
  {
   "cell_type": "code",
   "execution_count": 71,
   "metadata": {},
   "outputs": [
    {
     "name": "stdout",
     "output_type": "stream",
     "text": [
      "bank of baroda\n",
      "bank of india\n",
      "canara bank\n",
      "central bank of india\n",
      "general insurance corporation of india\n",
      "indian bank\n",
      "indian overseas bank\n",
      "bank of maharashtra\n",
      "punjab national bank\n",
      "punjab & sind bank\n",
      "state bank of india\n",
      "uco bank\n",
      "union bank of india\n",
      "0             other industrial metals & mining\n",
      "1              information technology services\n",
      "2                                conglomerates\n",
      "3                         software-application\n",
      "4                   engineering & construction\n",
      "5       drug manufacturers-specialty & generic\n",
      "6                          specialty chemicals\n",
      "7                        textile manufacturing\n",
      "8                           oil & gas drilling\n",
      "9               specialty industrial machinery\n",
      "10                  drug manufacturers-general\n",
      "11                     financial conglomerates\n",
      "12                       apparel manufacturing\n",
      "13                         specialty chemicals\n",
      "14                          building materials\n",
      "15             information technology services\n",
      "16         farm & heavy construction machinery\n",
      "17                                thermal coal\n",
      "18                             marine shipping\n",
      "19       utilities-independent power producers\n",
      "20                utilities-regulated electric\n",
      "21                              packaged foods\n",
      "22                                       steel\n",
      "23              specialty industrial machinery\n",
      "24             information technology services\n",
      "25             information technology services\n",
      "26                                     lodging\n",
      "27                         specialty chemicals\n",
      "28                         oil & gas midstream\n",
      "29                         specialty chemicals\n",
      "                         ...                  \n",
      "1513                       tools & accessories\n",
      "1514                               restaurants\n",
      "1515                                auto parts\n",
      "1516                      consumer electronics\n",
      "1517                           credit services\n",
      "1518            specialty industrial machinery\n",
      "1519                     textile manufacturing\n",
      "1520                  lumber & wood production\n",
      "1521           information technology services\n",
      "1522    drug manufacturers-specialty & generic\n",
      "1523                                   leisure\n",
      "1524              electrical equipment & parts\n",
      "1525                    paper & paper products\n",
      "1526           information technology services\n",
      "1527                       specialty chemicals\n",
      "1528                            banks-regional\n",
      "1529                              broadcasting\n",
      "1530             education & training services\n",
      "1531                              broadcasting\n",
      "1532                                     steel\n",
      "1533                     textile manufacturing\n",
      "1534           information technology services\n",
      "1535                       aerospace & defense\n",
      "1536            security & protection services\n",
      "1537                     apparel manufacturing\n",
      "1538                              luxury goods\n",
      "1539                             biotechnology\n",
      "1540                       agricultural inputs\n",
      "1541                             conglomerates\n",
      "1542                            packaged foods\n",
      "Name: Subsector, Length: 1543, dtype: object\n"
     ]
    }
   ],
   "source": [
    "cleaned_companies = clean_companies(df['Company'])\n",
    "cleaned_subsectors = clean_subsectors(df['Subsector'])\n",
    "# print(cleaned_companies)\n",
    "print(cleaned_subsectors)"
   ]
  },
  {
   "cell_type": "markdown",
   "metadata": {},
   "source": [
    "## Finding sentiment"
   ]
  },
  {
   "cell_type": "code",
   "execution_count": 83,
   "metadata": {},
   "outputs": [
    {
     "name": "stdout",
     "output_type": "stream",
     "text": [
      "{'ultratech': 3, 'pat': 2, 'cement': 1, 'dtls': 1, 'related': 1, 'news': 1, 'iias': 1, 'feesdo': 1, 'hdfc securities institutional': 1, 'fy20': 1, 'q4fy20': 1, 'central west': 1, 'q1fy21': 1, 'central south': 1}\n"
     ]
    }
   ],
   "source": [
    "organization, _ = nltk_eval(document)\n",
    "print(organization)"
   ]
  },
  {
   "cell_type": "code",
   "execution_count": 97,
   "metadata": {},
   "outputs": [],
   "source": [
    "def find_subsectors(organizations, cleaned_subsectors):\n",
    "    \"\"\"Find subsectors in organization\"\"\"\n",
    "    \n",
    "    organ_to_subsector = {}\n",
    "    for subsector in cleaned_subsectors:\n",
    "        for organization in organizations.keys():\n",
    "            if organization in subsector.split(' '):\n",
    "                if organization not in organ_to_subsector:\n",
    "                    organ_to_subsector[organization] = list()\n",
    "                organ_to_subsector[organization].append(subsector)\n",
    "    return organ_to_subsector\n",
    "\n",
    "def find_companies(organizations, cleaned_companies):\n",
    "    \n",
    "    organ_to_company = {}\n",
    "    for company in cleaned_companies:\n",
    "        for organization in organizations.keys():\n",
    "            if organization in company.split(' '):\n",
    "                if organization not in organ_to_company:\n",
    "                    organ_to_company[organization] = list()\n",
    "                organ_to_company[organization].append(company)\n",
    "    return organ_to_company\n",
    "\n",
    "def find_organ_context(document, organization):\n",
    "    count_sentences = 0\n",
    "    organ_to_sentenceid = {}\n",
    "    for sentence in document.split('.'):\n",
    "        count_sentences += 1\n",
    "        for organ in organization.keys():\n",
    "            if organ in sentence.lower():\n",
    "                if organ not in organ_to_sentenceid:\n",
    "                    organ_to_sentenceid[organ] = list()\n",
    "                organ_to_sentenceid[organ].append(count_sentences)\n",
    "    return organ_to_sentenceid, count_sentences\n",
    "\n",
    "def remove_other_organization(organizations, organ_to_subsector, organ_to_company):\n",
    "    dict_organizations = organizations.copy()\n",
    "    for organization in organizations.keys():\n",
    "        if organization not in (organ_to_subsector.keys() or organ_to_company.keys()):\n",
    "            dict_organizations.pop(organization)\n",
    "    return dict_organizations"
   ]
  },
  {
   "cell_type": "code",
   "execution_count": 82,
   "metadata": {},
   "outputs": [],
   "source": [
    "organ_to_subsector = find_subsectors(organization, cleaned_subsectors)\n",
    "organ_to_company = find_companies(organization, cleaned_companies)"
   ]
  },
  {
   "cell_type": "code",
   "execution_count": 84,
   "metadata": {},
   "outputs": [
    {
     "data": {
      "text/plain": [
       "Sentiment(polarity=0.0697366143957053, subjectivity=0.37840785477149114)"
      ]
     },
     "execution_count": 84,
     "metadata": {},
     "output_type": "execute_result"
    }
   ],
   "source": [
    "s = TextBlob(document)\n",
    "s.sentiment"
   ]
  },
  {
   "cell_type": "code",
   "execution_count": 98,
   "metadata": {},
   "outputs": [
    {
     "data": {
      "text/plain": [
       "{'ultratech': 3, 'cement': 1}"
      ]
     },
     "execution_count": 98,
     "metadata": {},
     "output_type": "execute_result"
    }
   ],
   "source": [
    "updated_organizatation = remove_other_organization(organization, organ_to_subsector, organ_to_company)\n",
    "updated_organizatation"
   ]
  },
  {
   "cell_type": "code",
   "execution_count": 99,
   "metadata": {},
   "outputs": [
    {
     "data": {
      "text/plain": [
       "{'ultratech': [1, 2, 7], 'cement': [2, 26, 29, 31]}"
      ]
     },
     "execution_count": 99,
     "metadata": {},
     "output_type": "execute_result"
    }
   ],
   "source": [
    "organ_to_sentenceid, total_sentences = find_organ_context(document, updated_organizatation)\n",
    "organ_to_sentenceid"
   ]
  },
  {
   "cell_type": "code",
   "execution_count": 104,
   "metadata": {},
   "outputs": [
    {
     "name": "stdout",
     "output_type": "stream",
     "text": [
      "{'ultratech': [0.0, 0.04545454545454545, 0.03148148148148147], 'cement': [0.04545454545454545, -0.04583333333333334, 0.05857142857142857, 0.032]}\n"
     ]
    }
   ],
   "source": [
    "def find_sentiment_of_context(document, organ_to_sentenceid, total_sentences):\n",
    "    list_of_sentences = document.split('.')\n",
    "    polarity_of_organ = {}\n",
    "\n",
    "    for item, value in organ_to_sentenceid.items():\n",
    "        polarity_of_organ[item] = list()\n",
    "        for i in value:\n",
    "            lower_value = i-1\n",
    "            upper_value = i+1\n",
    "            if lower_value < 0:\n",
    "                lower_value = 0\n",
    "            if upper_value > total_sentences:\n",
    "                upper_value = total_sentences\n",
    "            current_context = str(list_of_sentences[lower_value:upper_value+1])\n",
    "            current_context = TextBlob(current_context)\n",
    "            polarity_of_organ[item].append(current_context.sentiment.polarity)\n",
    "\n",
    "    print(polarity_of_organ)\n",
    "    return polarity_of_organ\n",
    "\n",
    "polarity_of_organ = find_sentiment_of_context(document, organ_to_sentenceid, total_sentences)"
   ]
  },
  {
   "cell_type": "markdown",
   "metadata": {},
   "source": [
    "## Test news extractor"
   ]
  },
  {
   "cell_type": "code",
   "execution_count": 18,
   "metadata": {
    "collapsed": true
   },
   "outputs": [
    {
     "name": "stdout",
     "output_type": "stream",
     "text": [
      "Organizations:\n",
      " ['completeurl', 'bloombergquint', 'top__28wgm', 'bq blue', 'union budget', 'union', 'coronavirus vaccine', 'rbi', 'fb8e1e', 'fineprint', 'elections', 'center__luymc', 'linkedin', 'adunit', 'gst', 'ipos', 'pwaeventdate', 'coronavirus outbreak', 'translatex', 'coronavirus pandemic', 'icici lombard', 'deferredprompt', 'scripttag', 'df0101', 'ff6564', 'corporate', 'nbcc', 'mrf', 'pgti', 'csr journal', 'mutual fund', 'news', 'markets', 'dell', 'rpg', 'mcx', 'lic', 'embassy group', 'hdfc', 'hdfc life', 'pti', 'telangana assembly election', 'mitsubishi electric', 'iifl', 'cfa', 'barriers', 'cleartax', 'real estate', 'real economy check', 'bank baroda', 'intel', 'pwadiff', 'of viral', 'bloomberg', 'moderna', 'eventmethod', 'eventname', 'optinmonsterapp', 'quint', 'business', 'whatsapp', 'americanexpress', 'bgbs', 'pnb fraud', 'bqportfolio videos', 'getdiffindays', 'addtohomescreen', 'parseint', 'doctype', 'moderna inc.', 'university oxford', 'mrna', 'rna', 'u.s. national institutes health', 'glaxosmithkline plc', 'newsarticle', 'mit license', 'buttontext', 'translatey', 'paytm', 'iframeslist', 'iframecontainer', 'iframeparent', 'adunitslist', 'adunitcontainer', 'messageevent', 'addlinktocopy', 'intersectionobserver', 'comscore_opts', 'js helper', 'referraldomainsrc', 'urlparts', 'optinmonster', 'quintillion media', 'company', 'engagement', 'sustainability', 'financial products', 'enterprise products', 'enterprise solutions', 'media', 'bloomberg politics', 'bloomberg view', 'news bureaus', 'customer support', 'americas', 'communications', 'industry products', 'media services', 'bloomberg live conferences', 'service center', 'telegram', 'coronavirus outbreak news', 'disclaimer', 'bq_story_banner_001', 'article_320x50', 'bq_leaderboard', 'bq_home_300x250_001', 'bq_section_mob_logo_125x125', 'davos_logo_125x75', 'davos_logo_300x50', 'davos_homepage_logo_300x55', 'davos_homepage_logo_150x55', 'davos_logo_100x75', 'davos_homepage_mobile_75x55', 'selectmedia_bq1x1', 'indeco', 'inb', 'indsup', 'inequity', 'inmoney', 'fed', 'bric', 'checo', 'bloombergquint studio', 'bloombergquint brand studio', 'mapicon', 'browsericon', 'paperplaneicon', 'sun pharma', 'upi', 'yoptima', 'isexternallink', 'fa1e64', 'top news', 'amazon news', 'business news', 'indiasbq', 'bbgs', 'pnb', 'bqportfolio', 'don', 'bloombergquint app', 'install', 'closedialog', 'ismobile', 'choiceresult', '__esmodule', 'cleartimeout']\n",
      "Location:\n",
      " ['China', 'India', 'Images', 'sans-serif', 'Arial', 'Videos', 'Financial', 'Error', 'Indian', 'Facebook', 'U.S.', 'New York', 'Vaccine', 'July', 'Moderna', 'Chinese', 'Europe', 'Middle East', 'Asia', 'Cambridge', 'Massachusetts', 'Notifications', 'Businessweek', 'Imagine', 'Per', 'Gadfly', 'Economy', 'Bitcoin', 'Aadhaar', 'Carnival', 'Right', 'Countdown', 'Latest', 'Home']\n",
      "Re Organizations:\n",
      " ['city union bank', 'shriram city union finance', 'union bank of india', 'hdfc asset management company', 'hdfc bank', 'hdfc life insurance company', 'iifl finance', 'iifl securities', 'iifl wealth management', 'lic housing finance', 'mrf', 'nbcc (india)', 'rpg life sciences', 'aspinwall and company', 'b.a.g films and media', 'balmer lawrie & company', 'bombay dyeing & mfg company', 'california software company', 'cholamandalam investment and finance company', 'diligent media corporation', 'elecon engineering company', 'elgi rubber company', 'energy development company', 'eros international media', 'the great eastern shipping company', 'gillanders arbuthnot & company', 'gujarat industries power company', 'orient green power company', 'the grob tea company', 'hindustan construction company', 'hindustan oil exploration company', 'hindustan media ventures', 'ht media', 'icici lombard general insurance company', 'icici prudential life insurance company', 'il&fs engineering and construction company', 'the indian hotels company', 'indian card clothing company', 'indian hume pipe company', 'jindal poly investment and finance company', 'kirloskar electric company', 'kalyani investment company', 'kaveri seed company', 'landmark property development company', 'manaksia aluminium company', 'mcnally bharat engineering company', 'national aluminium company', 'n. b. i. industrial finance company', 'network18 media & investments', 'the new india assurance company', 'noida toll bridge company', 'the orissa minerals development company', 'ortel communications', 'paramount communications', 'the peria karamalai tea & produce company', 'pnb gilts', 'pnb housing finance', 'pritish nandy communications', 'reliance communications', 'rupa & company', 'sab events & governance now media', 'sambhaav media', 'sbi life insurance company', 's chand and company', 'sel manufacturing company', 's h kelkar and company', 'sun pharma advanced research company', 'shriram transport finance company', 'sunflag iron and steel company', 'tata communications', 'tata power company', 'techno electric & engineering company', 'tide water oil company (india)', 'the tinplate company of india', 'titan company', 'tvs motor company', 'the united nilgiri tea estates company', 'williamson magor & company', 'zee media corporation', 'zodiac clothing company']\n"
     ]
    },
    {
     "data": {
      "text/plain": [
       "'Success'"
      ]
     },
     "execution_count": 18,
     "metadata": {},
     "output_type": "execute_result"
    }
   ],
   "source": [
    "import requests\n",
    "import urllib.parse\n",
    "url = \"https://www.bloombergquint.com/coronavirus-outbreak/vaccine-from-moderna-shows-early-signs-of-viral-immune-response\"\n",
    "response  = requests.get(url)\n",
    "\n",
    "nltk_eval(response.text)"
   ]
  },
  {
   "cell_type": "code",
   "execution_count": 19,
   "metadata": {},
   "outputs": [
    {
     "data": {
      "text/plain": [
       "<bound method Response.json of <Response [200]>>"
      ]
     },
     "execution_count": 19,
     "metadata": {},
     "output_type": "execute_result"
    }
   ],
   "source": [
    "response.json"
   ]
  },
  {
   "cell_type": "code",
   "execution_count": 45,
   "metadata": {},
   "outputs": [],
   "source": [
    "import lxml.html"
   ]
  },
  {
   "cell_type": "code",
   "execution_count": 65,
   "metadata": {},
   "outputs": [
    {
     "data": {
      "text/plain": [
       "[<Element div at 0x2dcfedd5598>]"
      ]
     },
     "execution_count": 65,
     "metadata": {},
     "output_type": "execute_result"
    }
   ],
   "source": [
    "url = \"https://www.bloombergquint.com/coronavirus-outbreak/vaccine-from-moderna-shows-early-signs-of-viral-immune-response\"\n",
    "response  = requests.get(url)\n",
    "doc = lxml.html.fromstring(response.content)\n",
    "tags = doc.xpath('//*[@class=\"story-element story-element-text\"]')\n",
    "total_tags = []\n",
    "for tag in tags:\n",
    "    total_tags.append(tag.text_content())\n",
    "tags"
   ]
  },
  {
   "cell_type": "code",
   "execution_count": 72,
   "metadata": {
    "collapsed": true
   },
   "outputs": [
    {
     "ename": "XMLSyntaxError",
     "evalue": "EntityRef: expecting ';', line 4, column 2589 (<string>, line 4)",
     "output_type": "error",
     "traceback": [
      "Traceback \u001b[1;36m(most recent call last)\u001b[0m:\n",
      "  File \u001b[0;32m\"C:\\Users\\Jayant\\Anaconda3\\envs\\ml\\lib\\site-packages\\IPython\\core\\interactiveshell.py\"\u001b[0m, line \u001b[0;32m3291\u001b[0m, in \u001b[0;35mrun_code\u001b[0m\n    exec(code_obj, self.user_global_ns, self.user_ns)\n",
      "  File \u001b[0;32m\"<ipython-input-72-96a13e564218>\"\u001b[0m, line \u001b[0;32m2\u001b[0m, in \u001b[0;35m<module>\u001b[0m\n    root = lxml.etree.fromstring(response.content)\n",
      "  File \u001b[0;32m\"src\\lxml\\etree.pyx\"\u001b[0m, line \u001b[0;32m3236\u001b[0m, in \u001b[0;35mlxml.etree.fromstring\u001b[0m\n",
      "  File \u001b[0;32m\"src\\lxml\\parser.pxi\"\u001b[0m, line \u001b[0;32m1876\u001b[0m, in \u001b[0;35mlxml.etree._parseMemoryDocument\u001b[0m\n",
      "  File \u001b[0;32m\"src\\lxml\\parser.pxi\"\u001b[0m, line \u001b[0;32m1764\u001b[0m, in \u001b[0;35mlxml.etree._parseDoc\u001b[0m\n",
      "  File \u001b[0;32m\"src\\lxml\\parser.pxi\"\u001b[0m, line \u001b[0;32m1127\u001b[0m, in \u001b[0;35mlxml.etree._BaseParser._parseDoc\u001b[0m\n",
      "  File \u001b[0;32m\"src\\lxml\\parser.pxi\"\u001b[0m, line \u001b[0;32m601\u001b[0m, in \u001b[0;35mlxml.etree._ParserContext._handleParseResultDoc\u001b[0m\n",
      "  File \u001b[0;32m\"src\\lxml\\parser.pxi\"\u001b[0m, line \u001b[0;32m711\u001b[0m, in \u001b[0;35mlxml.etree._handleParseResult\u001b[0m\n",
      "\u001b[1;36m  File \u001b[1;32m\"src\\lxml\\parser.pxi\"\u001b[1;36m, line \u001b[1;32m640\u001b[1;36m, in \u001b[1;35mlxml.etree._raiseParseError\u001b[1;36m\u001b[0m\n",
      "\u001b[1;36m  File \u001b[1;32m\"<string>\"\u001b[1;36m, line \u001b[1;32m4\u001b[0m\n\u001b[1;31mXMLSyntaxError\u001b[0m\u001b[1;31m:\u001b[0m EntityRef: expecting ';', line 4, column 2589\n"
     ]
    }
   ],
   "source": [
    "import lxml.etree\n",
    "root = lxml.etree.fromstring(response.content)\n",
    "for elem in root.xpath('//*[@class=\"story-element story-element-text\"]'):\n",
    "    print(\"j\")"
   ]
  },
  {
   "cell_type": "code",
   "execution_count": null,
   "metadata": {},
   "outputs": [],
   "source": []
  }
 ],
 "metadata": {
  "kernelspec": {
   "display_name": "Python 3",
   "language": "python",
   "name": "python3"
  },
  "language_info": {
   "codemirror_mode": {
    "name": "ipython",
    "version": 3
   },
   "file_extension": ".py",
   "mimetype": "text/x-python",
   "name": "python",
   "nbconvert_exporter": "python",
   "pygments_lexer": "ipython3",
   "version": "3.7.2"
  }
 },
 "nbformat": 4,
 "nbformat_minor": 2
}
