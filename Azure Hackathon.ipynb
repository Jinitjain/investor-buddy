{
 "cells": [
  {
   "cell_type": "markdown",
   "metadata": {},
   "source": [
    "# Azure hackathon"
   ]
  },
  {
   "cell_type": "markdown",
   "metadata": {},
   "source": [
    "## Import"
   ]
  },
  {
   "cell_type": "code",
   "execution_count": 1,
   "metadata": {},
   "outputs": [
    {
     "name": "stderr",
     "output_type": "stream",
     "text": [
      "[nltk_data] Downloading package stopwords to\n",
      "[nltk_data]     C:\\Users\\Jayant\\AppData\\Roaming\\nltk_data...\n",
      "[nltk_data]   Package stopwords is already up-to-date!\n",
      "[nltk_data] Downloading package punkt to\n",
      "[nltk_data]     C:\\Users\\Jayant\\AppData\\Roaming\\nltk_data...\n",
      "[nltk_data]   Package punkt is already up-to-date!\n",
      "[nltk_data] Downloading package averaged_perceptron_tagger to\n",
      "[nltk_data]     C:\\Users\\Jayant\\AppData\\Roaming\\nltk_data...\n",
      "[nltk_data]   Package averaged_perceptron_tagger is already up-to-\n",
      "[nltk_data]       date!\n",
      "[nltk_data] Downloading package maxent_ne_chunker to\n",
      "[nltk_data]     C:\\Users\\Jayant\\AppData\\Roaming\\nltk_data...\n",
      "[nltk_data]   Package maxent_ne_chunker is already up-to-date!\n",
      "[nltk_data] Downloading package words to\n",
      "[nltk_data]     C:\\Users\\Jayant\\AppData\\Roaming\\nltk_data...\n",
      "[nltk_data]   Package words is already up-to-date!\n"
     ]
    }
   ],
   "source": [
    "import nltk\n",
    "nltk.download('stopwords')\n",
    "nltk.download('punkt')\n",
    "nltk.download('averaged_perceptron_tagger')\n",
    "nltk.download('maxent_ne_chunker')\n",
    "nltk.download('words')\n",
    "from nltk.corpus import stopwords\n",
    "stop = stopwords.words('english')\n",
    "\n",
    "import numpy as np\n",
    "import pandas as pd\n",
    "\n",
    "# !pip3 install textblob\n",
    "# !python3 -m textblob.download_corpora\n",
    "\n",
    "from textblob import TextBlob\n"
   ]
  },
  {
   "cell_type": "code",
   "execution_count": 2,
   "metadata": {},
   "outputs": [],
   "source": [
    "# nltk.download()\n",
    "from nltk.corpus import stopwords\n",
    "stop = stopwords.words('english')\n",
    "# stop = list(map(lambda x: x.upper(),stop))\n",
    "stop.remove('in')\n",
    "stop.remove('at')\n",
    "stop.remove('and')\n",
    "stop.remove('to')\n"
   ]
  },
  {
   "cell_type": "markdown",
   "metadata": {},
   "source": [
    "## Get article in document"
   ]
  },
  {
   "cell_type": "markdown",
   "metadata": {},
   "source": [
    "### Jinit Code"
   ]
  },
  {
   "cell_type": "code",
   "execution_count": 3,
   "metadata": {},
   "outputs": [],
   "source": [
    "# CNBC news article's scrapper\n",
    "import requests \n",
    "from bs4 import BeautifulSoup\n",
    "\n",
    "def extract_article (url):\n",
    "    # request for article web page\n",
    "    req = requests.get(url) \n",
    "\n",
    "    # extract html data using the 'lxml' parser  \n",
    "    soup = BeautifulSoup(req.content, 'lxml')\n",
    "\n",
    "    # extract news article's headline  \n",
    "    headline = soup.find('h1', class_=\"ArticleHeader-headline\").text\n",
    "\n",
    "    # extract news description\n",
    "    description = ''\n",
    "    news_desc = soup.find_all('div', class_=\"group\")\n",
    "    for desc in news_desc:\n",
    "        description = description + desc.text\n",
    "\n",
    "    return headline, description\n",
    "\n",
    "document = extract_article(\"https://www.cnbc.com/2020/05/22/coronavirus-goldman-sachs-on-india-growth-gdp-forecast.html\")"
   ]
  },
  {
   "cell_type": "code",
   "execution_count": 30,
   "metadata": {},
   "outputs": [],
   "source": [
    "document = \"\"\"Lower costs and stable pricing came to the rescue of UltraTech, even as the pandemic impacted its March quarter performance. UltraTech Cement reported a 6% year-on-year increase in its consolidated net profit at Rs 1,131 crore for the quarter ended March 31. This is the company’s normalised profit.\n",
    "\n",
    "The company has reported both normalised and net profit numbers this quarter, on account of deferred tax liabilities because of change in the tax regime from 35% to the new 25%. Normalised profit after tax (PAT) of Rs 1,131 crore is before considering the benefit of Rs 2,112 crore of reversal of deferred tax liabilities as on April 1, 2019, due to change in income tax rates. The company’s reported net profit stood at Rs 3,243 crore, including the gain of deferred tax liabilities (DTLs).\n",
    "\n",
    "RELATED NEWS\n",
    "Big 4 auditors have lost credibility among 57% investors: IiAS surveyBig 4 auditors have lost credibility among 57% investors: IiAS surveyDo mutual fund managers justify their fees? Here's how fund alpha compares with management feesDo mutual fund managers justify their fees? Here's how fund alpha compares with management fees\n",
    "\n",
    "According to HDFC Securities Institutional Research Desk, UltraTech’s volumes suffered (down 16% y-o-y) in the March quarter owing to the Covid-19 impact. However, stable pricing and lower energy cost drove unitary ebitda expansion 14% y-o-y to a solid Rs 1139/MT (up 13% quarter-on-quarter), thus moderating consolidated earnings before interest, taxes, depreciation and amortisation (ebitda) decline to 4% y-o-y. “Subsequently, higher treasury gains and lower tax rate drove up adjusted PAT by 6% y-o-y. During FY20, strong profits (ebitda/apat up 28/51%), along with working capital release and flattish capex boosted free cashflows and its net debt fell 25% y-o-y to `16.9 billion. Net debt/ebitda cooled off to 1.8x vs 3x y-o-y,” the brokerage said.\n",
    "\n",
    "The consolidated revenue from operations declined 13% y-o-y to Rs 10,579 crore on account of disruptions led by Covid-19 related shutdowns, resulting in lower sales volumes during the quarter and the full year. “In the face of the unprecedented situation arising out of the pandemic, the company’s operations across locations were shut down in line with the government directives. Construction activity across the country was halted, which is normally at its peak in the month of March, leading to an adverse impact on the company’s operations during the quarter ended March 31, 2020,” the company statement said.\n",
    "\n",
    "Consolidated sales volume suffered a sharp decline of 16% to 21.44 million tonne in Q4FY20, while for the full year volumes fell 4% to 82.33 million tonne.\n",
    "\n",
    "However, the consolidated ebitda remained flat at Rs 2,639 crore, supported by lower fuel and logistics costs, though, impacted by higher raw material prices. Consequently, consolidated ebitda margins came in at 25%, a rise of 300 basis points against the figures of fourth quarter last year.\n",
    "\n",
    "Logistics costs declined 3% y-o-y to Rs 1149 per tonne on account of benefit due to exemption of railway busy-season surcharge. The energy costs were lower by 13% y-o-y to Rs 914 per tonne with benefit from lower fuel prices and increased pet coke usage. The raw material costs increased 5% y-o-y to Rs 497 per tonne. This was on account of higher fly ash prices and increased share of new products.\n",
    "\n",
    "Meanwhile, cement dealers across the country expect significantly sluggish sales, elongated credit period to retailers, and higher working capital needs in the wake of the Covid-19 pandemic this financial year, according to a Crisil survey. Majority of the dealers surveyed said they expected volumes to shrink 10-30% in financial year 2020-2021 in the base case scenario, if the lockdown eases in May. “Extension beyond this can worsen these figures,” rating agency noted.\n",
    "\n",
    "Cement prices trend in May, to date, indicates that prices have been increased by Rs 20-30 per bag in the North, Central and West markets; Rs 20-50 per bag in the East markets (Rs 20-25 per bag in all states except Bihar where the price hike is Rs 50 per bag), and Rs 40-90 per bag in the south region. “If these prices sustain, price improvement in Q1FY21 should be at 6-16% quarter-on-quarter, much higher than our expectation of 0-1% q-o-q price increase. Current cement prices in the North, Central and South (net of all discounts) markets are at all-time high levels,” analysts at Emkay Research said in a recent report.\"\"\""
   ]
  },
  {
   "cell_type": "code",
   "execution_count": 28,
   "metadata": {},
   "outputs": [
    {
     "data": {
      "text/plain": [
       "\"L o w e r   c o s t s   a n d   s t a b l e   p r i c i n g   c a m e   t o   t h e   r e s c u e   o f   U l t r a T e c h ,   e v e n   a s   t h e   p a n d e m i c   i m p a c t e d   i t s   M a r c h   q u a r t e r   p e r f o r m a n c e .   U l t r a T e c h   C e m e n t   r e p o r t e d   a   6 %   y e a r - o n - y e a r   i n c r e a s e   i n   i t s   c o n s o l i d a t e d   n e t   p r o f i t   a t   R s   1 , 1 3 1   c r o r e   f o r   t h e   q u a r t e r   e n d e d   M a r c h   3 1 .   T h i s   i s   t h e   c o m p a n y ’ s   n o r m a l i s e d   p r o f i t . \\n \\n T h e   c o m p a n y   h a s   r e p o r t e d   b o t h   n o r m a l i s e d   a n d   n e t   p r o f i t   n u m b e r s   t h i s   q u a r t e r ,   o n   a c c o u n t   o f   d e f e r r e d   t a x   l i a b i l i t i e s   b e c a u s e   o f   c h a n g e   i n   t h e   t a x   r e g i m e   f r o m   3 5 %   t o   t h e   n e w   2 5 % .   N o r m a l i s e d   p r o f i t   a f t e r   t a x   ( P A T )   o f   R s   1 , 1 3 1   c r o r e   i s   b e f o r e   c o n s i d e r i n g   t h e   b e n e f i t   o f   R s   2 , 1 1 2   c r o r e   o f   r e v e r s a l   o f   d e f e r r e d   t a x   l i a b i l i t i e s   a s   o n   A p r i l   1 ,   2 0 1 9 ,   d u e   t o   c h a n g e   i n   i n c o m e   t a x   r a t e s .   T h e   c o m p a n y ’ s   r e p o r t e d   n e t   p r o f i t   s t o o d   a t   R s   3 , 2 4 3   c r o r e ,   i n c l u d i n g   t h e   g a i n   o f   d e f e r r e d   t a x   l i a b i l i t i e s   ( D T L s ) . \\n \\n R E L A T E D   N E W S \\n B i g   4   a u d i t o r s   h a v e   l o s t   c r e d i b i l i t y   a m o n g   5 7 %   i n v e s t o r s :   I i A S   s u r v e y B i g   4   a u d i t o r s   h a v e   l o s t   c r e d i b i l i t y   a m o n g   5 7 %   i n v e s t o r s :   I i A S   s u r v e y D o   m u t u a l   f u n d   m a n a g e r s   j u s t i f y   t h e i r   f e e s ?   H e r e ' s   h o w   f u n d   a l p h a   c o m p a r e s   w i t h   m a n a g e m e n t   f e e s D o   m u t u a l   f u n d   m a n a g e r s   j u s t i f y   t h e i r   f e e s ?   H e r e ' s   h o w   f u n d   a l p h a   c o m p a r e s   w i t h   m a n a g e m e n t   f e e s \\n \\n A c c o r d i n g   t o   H D F C   S e c u r i t i e s   I n s t i t u t i o n a l   R e s e a r c h   D e s k ,   U l t r a T e c h ’ s   v o l u m e s   s u f f e r e d   ( d o w n   1 6 %   y - o - y )   i n   t h e   M a r c h   q u a r t e r   o w i n g   t o   t h e   C o v i d - 1 9   i m p a c t .   H o w e v e r ,   s t a b l e   p r i c i n g   a n d   l o w e r   e n e r g y   c o s t   d r o v e   u n i t a r y   e b i t d a   e x p a n s i o n   1 4 %   y - o - y   t o   a   s o l i d   R s   1 1 3 9 / M T   ( u p   1 3 %   q u a r t e r - o n - q u a r t e r ) ,   t h u s   m o d e r a t i n g   c o n s o l i d a t e d   e a r n i n g s   b e f o r e   i n t e r e s t ,   t a x e s ,   d e p r e c i a t i o n   a n d   a m o r t i s a t i o n   ( e b i t d a )   d e c l i n e   t o   4 %   y - o - y .   “ S u b s e q u e n t l y ,   h i g h e r   t r e a s u r y   g a i n s   a n d   l o w e r   t a x   r a t e   d r o v e   u p   a d j u s t e d   P A T   b y   6 %   y - o - y .   D u r i n g   F Y 2 0 ,   s t r o n g   p r o f i t s   ( e b i t d a / a p a t   u p   2 8 / 5 1 % ) ,   a l o n g   w i t h   w o r k i n g   c a p i t a l   r e l e a s e   a n d   f l a t t i s h   c a p e x   b o o s t e d   f r e e   c a s h f l o w s   a n d   i t s   n e t   d e b t   f e l l   2 5 %   y - o - y   t o   ` 1 6 . 9   b i l l i o n .   N e t   d e b t / e b i t d a   c o o l e d   o f f   t o   1 . 8 x   v s   3 x   y - o - y , ”   t h e   b r o k e r a g e   s a i d . \\n \\n T h e   c o n s o l i d a t e d   r e v e n u e   f r o m   o p e r a t i o n s   d e c l i n e d   1 3 %   y - o - y   t o   R s   1 0 , 5 7 9   c r o r e   o n   a c c o u n t   o f   d i s r u p t i o n s   l e d   b y   C o v i d - 1 9   r e l a t e d   s h u t d o w n s ,   r e s u l t i n g   i n   l o w e r   s a l e s   v o l u m e s   d u r i n g   t h e   q u a r t e r   a n d   t h e   f u l l   y e a r .   “ I n   t h e   f a c e   o f   t h e   u n p r e c e d e n t e d   s i t u a t i o n   a r i s i n g   o u t   o f   t h e   p a n d e m i c ,   t h e   c o m p a n y ’ s   o p e r a t i o n s   a c r o s s   l o c a t i o n s   w e r e   s h u t   d o w n   i n   l i n e   w i t h   t h e   g o v e r n m e n t   d i r e c t i v e s .   C o n s t r u c t i o n   a c t i v i t y   a c r o s s   t h e   c o u n t r y   w a s   h a l t e d ,   w h i c h   i s   n o r m a l l y   a t   i t s   p e a k   i n   t h e   m o n t h   o f   M a r c h ,   l e a d i n g   t o   a n   a d v e r s e   i m p a c t   o n   t h e   c o m p a n y ’ s   o p e r a t i o n s   d u r i n g   t h e   q u a r t e r   e n d e d   M a r c h   3 1 ,   2 0 2 0 , ”   t h e   c o m p a n y   s t a t e m e n t   s a i d . \\n \\n C o n s o l i d a t e d   s a l e s   v o l u m e   s u f f e r e d   a   s h a r p   d e c l i n e   o f   1 6 %   t o   2 1 . 4 4   m i l l i o n   t o n n e   i n   Q 4 F Y 2 0 ,   w h i l e   f o r   t h e   f u l l   y e a r   v o l u m e s   f e l l   4 %   t o   8 2 . 3 3   m i l l i o n   t o n n e . \\n \\n H o w e v e r ,   t h e   c o n s o l i d a t e d   e b i t d a   r e m a i n e d   f l a t   a t   R s   2 , 6 3 9   c r o r e ,   s u p p o r t e d   b y   l o w e r   f u e l   a n d   l o g i s t i c s   c o s t s ,   t h o u g h ,   i m p a c t e d   b y   h i g h e r   r a w   m a t e r i a l   p r i c e s .   C o n s e q u e n t l y ,   c o n s o l i d a t e d   e b i t d a   m a r g i n s   c a m e   i n   a t   2 5 % ,   a   r i s e   o f   3 0 0   b a s i s   p o i n t s   a g a i n s t   t h e   f i g u r e s   o f   f o u r t h   q u a r t e r   l a s t   y e a r . \\n \\n L o g i s t i c s   c o s t s   d e c l i n e d   3 %   y - o - y   t o   R s   1 1 4 9   p e r   t o n n e   o n   a c c o u n t   o f   b e n e f i t   d u e   t o   e x e m p t i o n   o f   r a i l w a y   b u s y - s e a s o n   s u r c h a r g e .   T h e   e n e r g y   c o s t s   w e r e   l o w e r   b y   1 3 %   y - o - y   t o   R s   9 1 4   p e r   t o n n e   w i t h   b e n e f i t   f r o m   l o w e r   f u e l   p r i c e s   a n d   i n c r e a s e d   p e t   c o k e   u s a g e .   T h e   r a w   m a t e r i a l   c o s t s   i n c r e a s e d   5 %   y - o - y   t o   R s   4 9 7   p e r   t o n n e .   T h i s   w a s   o n   a c c o u n t   o f   h i g h e r   f l y   a s h   p r i c e s   a n d   i n c r e a s e d   s h a r e   o f   n e w   p r o d u c t s . \\n \\n M e a n w h i l e ,   c e m e n t   d e a l e r s   a c r o s s   t h e   c o u n t r y   e x p e c t   s i g n i f i c a n t l y   s l u g g i s h   s a l e s ,   e l o n g a t e d   c r e d i t   p e r i o d   t o   r e t a i l e r s ,   a n d   h i g h e r   w o r k i n g   c a p i t a l   n e e d s   i n   t h e   w a k e   o f   t h e   C o v i d - 1 9   p a n d e m i c   t h i s   f i n a n c i a l   y e a r ,   a c c o r d i n g   t o   a   C r i s i l   s u r v e y .   M a j o r i t y   o f   t h e   d e a l e r s   s u r v e y e d   s a i d   t h e y   e x p e c t e d   v o l u m e s   t o   s h r i n k   1 0 - 3 0 %   i n   f i n a n c i a l   y e a r   2 0 2 0 - 2 0 2 1   i n   t h e   b a s e   c a s e   s c e n a r i o ,   i f   t h e   l o c k d o w n   e a s e s   i n   M a y .   “ E x t e n s i o n   b e y o n d   t h i s   c a n   w o r s e n   t h e s e   f i g u r e s , ”   r a t i n g   a g e n c y   n o t e d . \\n \\n C e m e n t   p r i c e s   t r e n d   i n   M a y ,   t o   d a t e ,   i n d i c a t e s   t h a t   p r i c e s   h a v e   b e e n   i n c r e a s e d   b y   R s   2 0 - 3 0   p e r   b a g   i n   t h e   N o r t h ,   C e n t r a l   a n d   W e s t   m a r k e t s ;   R s   2 0 - 5 0   p e r   b a g   i n   t h e   E a s t   m a r k e t s   ( R s   2 0 - 2 5   p e r   b a g   i n   a l l   s t a t e s   e x c e p t   B i h a r   w h e r e   t h e   p r i c e   h i k e   i s   R s   5 0   p e r   b a g ) ,   a n d   R s   4 0 - 9 0   p e r   b a g   i n   t h e   s o u t h   r e g i o n .   “ I f   t h e s e   p r i c e s   s u s t a i n ,   p r i c e   i m p r o v e m e n t   i n   Q 1 F Y 2 1   s h o u l d   b e   a t   6 - 1 6 %   q u a r t e r - o n - q u a r t e r ,   m u c h   h i g h e r   t h a n   o u r   e x p e c t a t i o n   o f   0 - 1 %   q - o - q   p r i c e   i n c r e a s e .   C u r r e n t   c e m e n t   p r i c e s   i n   t h e   N o r t h ,   C e n t r a l   a n d   S o u t h   ( n e t   o f   a l l   d i s c o u n t s )   m a r k e t s   a r e   a t   a l l - t i m e   h i g h   l e v e l s , ”   a n a l y s t s   a t   E m k a y   R e s e a r c h   s a i d   i n   a   r e c e n t   r e p o r t .\""
      ]
     },
     "execution_count": 28,
     "metadata": {},
     "output_type": "execute_result"
    }
   ],
   "source": [
    "\" \".join(document)"
   ]
  },
  {
   "cell_type": "markdown",
   "metadata": {},
   "source": [
    "## Process Document"
   ]
  },
  {
   "cell_type": "code",
   "execution_count": 6,
   "metadata": {},
   "outputs": [],
   "source": [
    "def nltk_process(document):\n",
    "    document = \" \".join([i for i in document.split() if i not in stop])\n",
    "    sentences = nltk.sent_tokenize(document)\n",
    "    sentences = [nltk.word_tokenize(sent) for sent in sentences]\n",
    "    sentences = [nltk.pos_tag(sent) for sent in sentences]\n",
    "    return sentences\n",
    "\n",
    "def nltk_eval(document):\n",
    "    chunkGram = r\"\"\"\n",
    "    ADDRESS: {<JJ.?|CD.?>+<CD.?|JJ.?|NNP.?>+<CD|NNP>+}\n",
    "    TEST : {}\n",
    "    NP: {<DT|JJ|NN.*>+}\n",
    "    \"\"\"\n",
    "    organization = {}\n",
    "    location = {}\n",
    "    chunkParser = nltk.RegexpParser(chunkGram)\n",
    "    for tagged_sentence in nltk_process(document):\n",
    "            for chunk in nltk.ne_chunk(tagged_sentence):\n",
    "                if type(chunk) == nltk.tree.Tree:\n",
    "                    if chunk.label() == 'ORGANIZATION':\n",
    "                        ## Organization is found\n",
    "                        temp = (' '.join([c[0] for c in chunk])).lower()\n",
    "                        if temp in organization:\n",
    "                            organization[temp] += 1\n",
    "                        else:\n",
    "                            organization[temp] = 1\n",
    "                    if chunk.label() == 'GPE':\n",
    "                        temp = ' '.join([c[0] for c in chunk])\n",
    "                        if temp in location:\n",
    "                            location[temp] += 1\n",
    "                        else:\n",
    "                            location[temp] = 1\n",
    "    organization = {k: v for k, v in sorted(organization.items(), key=lambda item: item[1], reverse=True)}\n",
    "    location = {k: v for k, v in sorted(location.items(), key=lambda item: item[1], reverse=True)}\n",
    "    \n",
    "    print(\"Organizations:\\n\",list(organization.keys()))\n",
    "    # print(\"Location:\\n\",list(location.keys()))\n",
    "                            \n",
    "    return organization, location\n",
    "    # return names, organization, location, address, other"
   ]
  },
  {
   "cell_type": "markdown",
   "metadata": {},
   "source": [
    "## Setting up one time company and subsector loading"
   ]
  },
  {
   "cell_type": "markdown",
   "metadata": {},
   "source": [
    "### Utilities function"
   ]
  },
  {
   "cell_type": "code",
   "execution_count": 7,
   "metadata": {},
   "outputs": [],
   "source": [
    "def clean_companies(companies):\n",
    "    cleaned_companies = []\n",
    "    for c in companies:\n",
    "        x = c.lower()\n",
    "        if x.endswith('limited'):\n",
    "            x = x[:-8]\n",
    "        elif x.endswith('ltd'):\n",
    "            x = x[:-4]\n",
    "        elif x.endswith('limited.'):\n",
    "            x = x[:-9]\n",
    "        elif x.endswith('ltd.'):\n",
    "            x = x[:-5]\n",
    "        else:\n",
    "            print(x)\n",
    "        cleaned_companies.append(x)\n",
    "    return cleaned_companies\n",
    "\n",
    "def clean_subsectors(subsector):\n",
    "    return subsector.str.lower()\n",
    "    "
   ]
  },
  {
   "cell_type": "markdown",
   "metadata": {},
   "source": [
    "### Old"
   ]
  },
  {
   "cell_type": "code",
   "execution_count": 8,
   "metadata": {},
   "outputs": [
    {
     "data": {
      "text/html": [
       "<div>\n",
       "<style scoped>\n",
       "    .dataframe tbody tr th:only-of-type {\n",
       "        vertical-align: middle;\n",
       "    }\n",
       "\n",
       "    .dataframe tbody tr th {\n",
       "        vertical-align: top;\n",
       "    }\n",
       "\n",
       "    .dataframe thead th {\n",
       "        text-align: right;\n",
       "    }\n",
       "</style>\n",
       "<table border=\"1\" class=\"dataframe\">\n",
       "  <thead>\n",
       "    <tr style=\"text-align: right;\">\n",
       "      <th></th>\n",
       "      <th>SYMBOL</th>\n",
       "      <th>NAME OF COMPANY</th>\n",
       "      <th>SERIES</th>\n",
       "      <th>DATE OF LISTING</th>\n",
       "      <th>PAID UP VALUE</th>\n",
       "      <th>MARKET LOT</th>\n",
       "      <th>ISIN NUMBER</th>\n",
       "      <th>FACE VALUE</th>\n",
       "    </tr>\n",
       "  </thead>\n",
       "  <tbody>\n",
       "    <tr>\n",
       "      <th>0</th>\n",
       "      <td>20MICRONS</td>\n",
       "      <td>20 Microns Limited</td>\n",
       "      <td>EQ</td>\n",
       "      <td>06-OCT-2008</td>\n",
       "      <td>5</td>\n",
       "      <td>1</td>\n",
       "      <td>INE144J01027</td>\n",
       "      <td>5</td>\n",
       "    </tr>\n",
       "    <tr>\n",
       "      <th>1</th>\n",
       "      <td>21STCENMGM</td>\n",
       "      <td>21st Century Management Services Limited</td>\n",
       "      <td>EQ</td>\n",
       "      <td>03-MAY-1995</td>\n",
       "      <td>10</td>\n",
       "      <td>1</td>\n",
       "      <td>INE253B01015</td>\n",
       "      <td>10</td>\n",
       "    </tr>\n",
       "    <tr>\n",
       "      <th>2</th>\n",
       "      <td>3IINFOTECH</td>\n",
       "      <td>3i Infotech Limited</td>\n",
       "      <td>EQ</td>\n",
       "      <td>22-APR-2005</td>\n",
       "      <td>10</td>\n",
       "      <td>1</td>\n",
       "      <td>INE748C01020</td>\n",
       "      <td>10</td>\n",
       "    </tr>\n",
       "    <tr>\n",
       "      <th>3</th>\n",
       "      <td>3MINDIA</td>\n",
       "      <td>3M India Limited</td>\n",
       "      <td>EQ</td>\n",
       "      <td>13-AUG-2004</td>\n",
       "      <td>10</td>\n",
       "      <td>1</td>\n",
       "      <td>INE470A01017</td>\n",
       "      <td>10</td>\n",
       "    </tr>\n",
       "    <tr>\n",
       "      <th>4</th>\n",
       "      <td>3PLAND</td>\n",
       "      <td>3P Land Holdings Limited</td>\n",
       "      <td>EQ</td>\n",
       "      <td>19-JUL-1995</td>\n",
       "      <td>2</td>\n",
       "      <td>1</td>\n",
       "      <td>INE105C01023</td>\n",
       "      <td>2</td>\n",
       "    </tr>\n",
       "  </tbody>\n",
       "</table>\n",
       "</div>"
      ],
      "text/plain": [
       "       SYMBOL                           NAME OF COMPANY  SERIES  \\\n",
       "0   20MICRONS                        20 Microns Limited      EQ   \n",
       "1  21STCENMGM  21st Century Management Services Limited      EQ   \n",
       "2  3IINFOTECH                       3i Infotech Limited      EQ   \n",
       "3     3MINDIA                          3M India Limited      EQ   \n",
       "4      3PLAND                  3P Land Holdings Limited      EQ   \n",
       "\n",
       "   DATE OF LISTING   PAID UP VALUE   MARKET LOT   ISIN NUMBER   FACE VALUE  \n",
       "0      06-OCT-2008               5            1  INE144J01027            5  \n",
       "1      03-MAY-1995              10            1  INE253B01015           10  \n",
       "2      22-APR-2005              10            1  INE748C01020           10  \n",
       "3      13-AUG-2004              10            1  INE470A01017           10  \n",
       "4      19-JUL-1995               2            1  INE105C01023            2  "
      ]
     },
     "execution_count": 8,
     "metadata": {},
     "output_type": "execute_result"
    }
   ],
   "source": [
    "df = pd.read_csv('EQUITY_L.csv')\n",
    "df.head()"
   ]
  },
  {
   "cell_type": "code",
   "execution_count": 9,
   "metadata": {},
   "outputs": [
    {
     "name": "stdout",
     "output_type": "stream",
     "text": [
      "bank of baroda\n",
      "bank of india\n",
      "canara bank\n",
      "central bank of india\n",
      "general insurance corporation of india\n",
      "indian bank\n",
      "indian overseas bank\n",
      "bank of maharashtra\n",
      "punjab national bank\n",
      "punjab & sind bank\n",
      "state bank of india\n",
      "uco bank\n",
      "union bank of india\n"
     ]
    }
   ],
   "source": [
    "companies = list(df['NAME OF COMPANY'].values)\n",
    "cleaned_companies = clean_companies(companies)\n",
    "# print(cleaned_companies)"
   ]
  },
  {
   "cell_type": "markdown",
   "metadata": {},
   "source": [
    "### New"
   ]
  },
  {
   "cell_type": "code",
   "execution_count": 47,
   "metadata": {},
   "outputs": [],
   "source": [
    "def preprocess_data():\n",
    "    df = pd.read_csv('finalBetaDB.csv')\n",
    "    df.rename(columns={' Sector': 'Sector', ' Sub-sector':'Subsector'}, inplace=True)\n",
    "    df = df.replace(np.nan, '', regex=True)\n",
    "    \n",
    "    cols = ['Sector', 'Subsector']\n",
    "    for col in cols:\n",
    "        df[col] = df[col].str.strip()\n",
    "        \n",
    "    cleaned_companies = clean_companies(df['Company'])\n",
    "    cleaned_subsectors = clean_subsectors(df['Subsector'])\n",
    "\n",
    "    df['cleaned_companies'] = cleaned_companies\n",
    "    df['cleaned_subsectors'] = cleaned_subsectors\n",
    "    \n",
    "    return df, cleaned_companies, cleaned_subsectors"
   ]
  },
  {
   "cell_type": "code",
   "execution_count": 48,
   "metadata": {},
   "outputs": [
    {
     "name": "stdout",
     "output_type": "stream",
     "text": [
      "bank of baroda\n",
      "bank of india\n",
      "canara bank\n",
      "central bank of india\n",
      "general insurance corporation of india\n",
      "indian bank\n",
      "indian overseas bank\n",
      "bank of maharashtra\n",
      "punjab national bank\n",
      "punjab & sind bank\n",
      "state bank of india\n",
      "uco bank\n",
      "union bank of india\n"
     ]
    }
   ],
   "source": [
    "df, cleaned_companies, cleaned_subsectors = preprocess_data()"
   ]
  },
  {
   "cell_type": "code",
   "execution_count": 10,
   "metadata": {},
   "outputs": [
    {
     "data": {
      "text/html": [
       "<div>\n",
       "<style scoped>\n",
       "    .dataframe tbody tr th:only-of-type {\n",
       "        vertical-align: middle;\n",
       "    }\n",
       "\n",
       "    .dataframe tbody tr th {\n",
       "        vertical-align: top;\n",
       "    }\n",
       "\n",
       "    .dataframe thead th {\n",
       "        text-align: right;\n",
       "    }\n",
       "</style>\n",
       "<table border=\"1\" class=\"dataframe\">\n",
       "  <thead>\n",
       "    <tr style=\"text-align: right;\">\n",
       "      <th></th>\n",
       "      <th>Symbol</th>\n",
       "      <th>Sector</th>\n",
       "      <th>Subsector</th>\n",
       "      <th>Company</th>\n",
       "      <th>beta</th>\n",
       "    </tr>\n",
       "  </thead>\n",
       "  <tbody>\n",
       "    <tr>\n",
       "      <th>0</th>\n",
       "      <td>20MICRONS</td>\n",
       "      <td>Basic Materials</td>\n",
       "      <td>Other Industrial Metals &amp; Mining</td>\n",
       "      <td>20 Microns Limited</td>\n",
       "      <td>0.783931</td>\n",
       "    </tr>\n",
       "    <tr>\n",
       "      <th>1</th>\n",
       "      <td>3IINFOTECH</td>\n",
       "      <td>Technology</td>\n",
       "      <td>Information Technology Services</td>\n",
       "      <td>3i Infotech Limited</td>\n",
       "      <td>1.167706</td>\n",
       "    </tr>\n",
       "    <tr>\n",
       "      <th>2</th>\n",
       "      <td>3MINDIA</td>\n",
       "      <td>Industrials</td>\n",
       "      <td>Conglomerates</td>\n",
       "      <td>3M India Limited</td>\n",
       "      <td>0.389235</td>\n",
       "    </tr>\n",
       "    <tr>\n",
       "      <th>3</th>\n",
       "      <td>8KMILES</td>\n",
       "      <td>Technology</td>\n",
       "      <td>Software-Application</td>\n",
       "      <td>8K Miles Software Services Limited</td>\n",
       "      <td>1.102964</td>\n",
       "    </tr>\n",
       "    <tr>\n",
       "      <th>4</th>\n",
       "      <td>A2ZINFRA</td>\n",
       "      <td>Industrials</td>\n",
       "      <td>Engineering &amp; Construction</td>\n",
       "      <td>A2Z Infra Engineering Limited</td>\n",
       "      <td>0.549921</td>\n",
       "    </tr>\n",
       "  </tbody>\n",
       "</table>\n",
       "</div>"
      ],
      "text/plain": [
       "       Symbol             Sector                          Subsector  \\\n",
       "0   20MICRONS   Basic Materials    Other Industrial Metals & Mining   \n",
       "1  3IINFOTECH        Technology     Information Technology Services   \n",
       "2     3MINDIA       Industrials                       Conglomerates   \n",
       "3     8KMILES        Technology                Software-Application   \n",
       "4    A2ZINFRA       Industrials          Engineering & Construction   \n",
       "\n",
       "                              Company      beta  \n",
       "0                  20 Microns Limited  0.783931  \n",
       "1                 3i Infotech Limited  1.167706  \n",
       "2                    3M India Limited  0.389235  \n",
       "3  8K Miles Software Services Limited  1.102964  \n",
       "4       A2Z Infra Engineering Limited  0.549921  "
      ]
     },
     "execution_count": 10,
     "metadata": {},
     "output_type": "execute_result"
    }
   ],
   "source": [
    "df = pd.read_csv('finalBetaDB.csv')\n",
    "df.rename(columns={' Sector': 'Sector', ' Sub-sector':'Subsector'}, inplace=True)\n",
    "df = df.replace(np.nan, '', regex=True)\n",
    "df.head()"
   ]
  },
  {
   "cell_type": "code",
   "execution_count": 11,
   "metadata": {},
   "outputs": [],
   "source": [
    "cols = ['Sector', 'Subsector']\n",
    "for col in cols:\n",
    "    df[col] = df[col].str.strip()"
   ]
  },
  {
   "cell_type": "code",
   "execution_count": 33,
   "metadata": {},
   "outputs": [
    {
     "name": "stdout",
     "output_type": "stream",
     "text": [
      "bank of baroda\n",
      "bank of india\n",
      "canara bank\n",
      "central bank of india\n",
      "general insurance corporation of india\n",
      "indian bank\n",
      "indian overseas bank\n",
      "bank of maharashtra\n",
      "punjab national bank\n",
      "punjab & sind bank\n",
      "state bank of india\n",
      "uco bank\n",
      "union bank of india\n"
     ]
    }
   ],
   "source": [
    "cleaned_companies = clean_companies(df['Company'])\n",
    "cleaned_subsectors = clean_subsectors(df['Subsector'])\n",
    "\n",
    "df['cleaned_companies'] = cleaned_companies\n",
    "df['cleaned_subsectors'] = cleaned_subsectors\n",
    "# print(cleaned_companies)\n",
    "# print(cleaned_subsectors)"
   ]
  },
  {
   "cell_type": "markdown",
   "metadata": {},
   "source": [
    "## Finding sentiment"
   ]
  },
  {
   "cell_type": "code",
   "execution_count": 13,
   "metadata": {},
   "outputs": [
    {
     "name": "stdout",
     "output_type": "stream",
     "text": [
      "Organizations:\n",
      " ['ultratech', 'pat', 'central', 'cement', 'dtls', 'related', 'news', 'iias', 'feesdo', 'hdfc securities institutional', 'fy20', 'q1fy21', 'emkay research']\n",
      "{'ultratech': 3, 'pat': 2, 'central': 2, 'cement': 1, 'dtls': 1, 'related': 1, 'news': 1, 'iias': 1, 'feesdo': 1, 'hdfc securities institutional': 1, 'fy20': 1, 'q1fy21': 1, 'emkay research': 1}\n"
     ]
    }
   ],
   "source": [
    "organization, _ = nltk_eval(document)\n",
    "print(organization)"
   ]
  },
  {
   "cell_type": "code",
   "execution_count": 14,
   "metadata": {},
   "outputs": [],
   "source": [
    "def find_subsectors(organizations, cleaned_subsectors):\n",
    "    \"\"\"Find subsectors in organization\"\"\"\n",
    "    \n",
    "    organ_to_subsector = {}\n",
    "    for subsector in cleaned_subsectors:\n",
    "        for organization in organizations.keys():\n",
    "            if organization in subsector.split(' '):\n",
    "                if organization not in organ_to_subsector:\n",
    "                    organ_to_subsector[organization] = list()\n",
    "                organ_to_subsector[organization].append(subsector)\n",
    "    return organ_to_subsector\n",
    "\n",
    "def find_companies(organizations, cleaned_companies):\n",
    "    \n",
    "    organ_to_company = {}\n",
    "    for company in cleaned_companies:\n",
    "        for organization in organizations.keys():\n",
    "            if organization in company.split(' '):\n",
    "                if organization not in organ_to_company:\n",
    "                    organ_to_company[organization] = list()\n",
    "                organ_to_company[organization].append(company)\n",
    "    return organ_to_company\n",
    "\n",
    "def find_organ_context(document, organization):\n",
    "    count_sentences = 0\n",
    "    organ_to_sentenceid = {}\n",
    "    for sentence in document.split('.'):\n",
    "        count_sentences += 1\n",
    "        for organ in organization.keys():\n",
    "            if organ in sentence.lower():\n",
    "                if organ not in organ_to_sentenceid:\n",
    "                    organ_to_sentenceid[organ] = list()\n",
    "                organ_to_sentenceid[organ].append(count_sentences)\n",
    "    return organ_to_sentenceid, count_sentences\n",
    "\n",
    "def remove_other_organization(organizations, organ_to_subsector, organ_to_company):\n",
    "    dict_organizations = organizations.copy()\n",
    "    for organization in organizations.keys():\n",
    "        if organization not in (organ_to_subsector.keys() or organ_to_company.keys()):\n",
    "            dict_organizations.pop(organization)\n",
    "    return dict_organizations"
   ]
  },
  {
   "cell_type": "code",
   "execution_count": 15,
   "metadata": {},
   "outputs": [],
   "source": [
    "organ_to_subsector = find_subsectors(organization, cleaned_subsectors)\n",
    "organ_to_company = find_companies(organization, cleaned_companies)"
   ]
  },
  {
   "cell_type": "code",
   "execution_count": 16,
   "metadata": {},
   "outputs": [
    {
     "name": "stdout",
     "output_type": "stream",
     "text": [
      "Document sentiment :  Sentiment(polarity=0.0697366143957053, subjectivity=0.37840785477149114)\n"
     ]
    }
   ],
   "source": [
    "s = TextBlob(document)\n",
    "print(\"Document sentiment : \", s.sentiment)"
   ]
  },
  {
   "cell_type": "code",
   "execution_count": 17,
   "metadata": {},
   "outputs": [
    {
     "data": {
      "text/plain": [
       "{'ultratech': 3, 'central': 2, 'cement': 1}"
      ]
     },
     "execution_count": 17,
     "metadata": {},
     "output_type": "execute_result"
    }
   ],
   "source": [
    "updated_organizatation = remove_other_organization(organization, organ_to_subsector, organ_to_company)\n",
    "updated_organizatation"
   ]
  },
  {
   "cell_type": "code",
   "execution_count": 18,
   "metadata": {},
   "outputs": [
    {
     "data": {
      "text/plain": [
       "{'ultratech': [1, 2, 7], 'cement': [2, 26, 29, 31], 'central': [29, 31]}"
      ]
     },
     "execution_count": 18,
     "metadata": {},
     "output_type": "execute_result"
    }
   ],
   "source": [
    "organ_to_sentenceid, total_sentences = find_organ_context(document, updated_organizatation)\n",
    "organ_to_sentenceid"
   ]
  },
  {
   "cell_type": "code",
   "execution_count": 19,
   "metadata": {},
   "outputs": [],
   "source": [
    "def find_sentiment_of_context(document, organ_to_sentenceid, total_sentences):\n",
    "    list_of_sentences = document.split('.')\n",
    "    polarity_of_organ = {}\n",
    "\n",
    "    for item, value in organ_to_sentenceid.items():\n",
    "        polarity_of_organ[item] = list()\n",
    "        for i in value:\n",
    "            lower_value = i-1\n",
    "            upper_value = i+2\n",
    "            if lower_value < 0:\n",
    "                lower_value = 0\n",
    "            if upper_value > total_sentences:\n",
    "                upper_value = total_sentences\n",
    "            current_context = str(list_of_sentences[lower_value:upper_value+1])\n",
    "            current_context = TextBlob(current_context)\n",
    "            polarity_of_organ[item].append(current_context.sentiment.polarity)\n",
    "\n",
    "    # print(polarity_of_organ)\n",
    "    return polarity_of_organ\n",
    "\n",
    "polarity_of_organ = find_sentiment_of_context(document, organ_to_sentenceid, total_sentences)"
   ]
  },
  {
   "cell_type": "code",
   "execution_count": 20,
   "metadata": {},
   "outputs": [],
   "source": [
    "def find_max_or_min_value(arr):\n",
    "    maxi = max(arr)\n",
    "    mini = min(arr)\n",
    "    \n",
    "    return maxi if abs(maxi) > abs(mini) else mini\n",
    "\n",
    "def distribute_polarity(polarity_of_organ, organ_to_subsector, organ_to_company):\n",
    "    subsector_to_polarity = {}\n",
    "    company_to_polarity = {}\n",
    "    for organization in polarity_of_organ:\n",
    "        value = find_max_or_min_value(polarity_of_organ[organization])\n",
    "        \n",
    "        if organization in organ_to_subsector.keys():\n",
    "            for subsector in organ_to_subsector[organization]:\n",
    "                if subsector in subsector_to_polarity:\n",
    "                    value = subsector_to_polarity[subsector] if abs(subsector_to_polarity[subsector]) > abs(value) else value\n",
    "                subsector_to_polarity[subsector] = value\n",
    "                \n",
    "        elif organization in organ_to_company.keys():\n",
    "            for company in organ_to_company[organization]:\n",
    "                if company in company_to_polarity:\n",
    "                    value = company_to_polarity[company] if abs(company_to_polarity[company]) > abs(value) else value\n",
    "                company_to_polarity[company] = value\n",
    "        \n",
    "    # print(subsector_to_polarity)\n",
    "    # print(company_to_polarity)\n",
    "    return subsector_to_polarity, company_to_polarity\n",
    "\n",
    "subsector_to_polarity, company_to_polarity = distribute_polarity(polarity_of_organ, organ_to_subsector, organ_to_company)\n"
   ]
  },
  {
   "cell_type": "markdown",
   "metadata": {},
   "source": [
    "## One stop evaluater"
   ]
  },
  {
   "cell_type": "code",
   "execution_count": 31,
   "metadata": {},
   "outputs": [],
   "source": [
    "def find_subsector_company_sentiment(document):\n",
    "    #document = \" \".join(document)\n",
    "    organization, _ = nltk_eval(document)\n",
    "    print(organization)\n",
    "    organ_to_subsector = find_subsectors(organization, cleaned_subsectors)\n",
    "    organ_to_company = find_companies(organization, cleaned_companies)\n",
    "    \n",
    "    updated_organizatation = remove_other_organization(organization, organ_to_subsector, organ_to_company)\n",
    "    organ_to_sentenceid, total_sentences = find_organ_context(document, updated_organizatation)\n",
    "    \n",
    "    polarity_of_organ = find_sentiment_of_context(document, organ_to_sentenceid, total_sentences)\n",
    "    subsector_to_polarity, company_to_polarity = distribute_polarity(polarity_of_organ, organ_to_subsector, organ_to_company)\n",
    "    \n",
    "    return subsector_to_polarity, company_to_polarity"
   ]
  },
  {
   "cell_type": "code",
   "execution_count": 32,
   "metadata": {},
   "outputs": [
    {
     "name": "stdout",
     "output_type": "stream",
     "text": [
      "Organizations:\n",
      " ['ultratech', 'pat', 'central', 'cement', 'dtls', 'related', 'news', 'iias', 'feesdo', 'hdfc securities institutional', 'fy20', 'q1fy21', 'emkay research']\n",
      "{'ultratech': 3, 'pat': 2, 'central': 2, 'cement': 1, 'dtls': 1, 'related': 1, 'news': 1, 'iias': 1, 'feesdo': 1, 'hdfc securities institutional': 1, 'fy20': 1, 'q1fy21': 1, 'emkay research': 1}\n"
     ]
    },
    {
     "data": {
      "text/plain": [
       "({},\n",
       " {'ultratech cement': 0.15462962962962962,\n",
       "  'anjani portland cement': 0.05857142857142857,\n",
       "  'burnpur cement': 0.05857142857142857,\n",
       "  'gujarat sidhee cement': 0.05857142857142857,\n",
       "  'jk cement': 0.05857142857142857,\n",
       "  'jk lakshmi cement': 0.05857142857142857,\n",
       "  'kakatiya cement sugar & industries': 0.05857142857142857,\n",
       "  'mangalam cement': 0.05857142857142857,\n",
       "  'orient cement': 0.05857142857142857,\n",
       "  'shree digvijay cement co': 0.05857142857142857,\n",
       "  'shree cement': 0.05857142857142857,\n",
       "  'star cement': 0.05857142857142857,\n",
       "  'central depository services (india)': 0.05857142857142857,\n",
       "  'central bank of india': 0.05857142857142857})"
      ]
     },
     "execution_count": 32,
     "metadata": {},
     "output_type": "execute_result"
    }
   ],
   "source": [
    "find_subsector_company_sentiment(document)"
   ]
  },
  {
   "cell_type": "code",
   "execution_count": 46,
   "metadata": {},
   "outputs": [
    {
     "name": "stdout",
     "output_type": "stream",
     "text": [
      "Organizations:\n",
      " ['ultratech', 'pat', 'central', 'cement', 'dtls', 'related', 'news', 'iias', 'feesdo', 'hdfc securities institutional', 'fy20', 'q1fy21', 'emkay research']\n",
      "{'ultratech': 3, 'pat': 2, 'central': 2, 'cement': 1, 'dtls': 1, 'related': 1, 'news': 1, 'iias': 1, 'feesdo': 1, 'hdfc securities institutional': 1, 'fy20': 1, 'q1fy21': 1, 'emkay research': 1}\n"
     ]
    },
    {
     "data": {
      "text/plain": [
       "{'Params': [{'label': 'Organization', 'symbol': 1440    ULTRACEMCO.NS\n",
       "   Name: Symbol, dtype: object, 'sentiment': 0.15462962962962962},\n",
       "  {'label': 'Organization', 'symbol': 75    APCL.NS\n",
       "   Name: Symbol, dtype: object, 'sentiment': 0.05857142857142857},\n",
       "  {'label': 'Organization', 'symbol': 226    BURNPUR.NS\n",
       "   Name: Symbol, dtype: object, 'sentiment': 0.05857142857142857},\n",
       "  {'label': 'Organization', 'symbol': 509    GSCLCEMENT.NS\n",
       "   Name: Symbol, dtype: object, 'sentiment': 0.05857142857142857},\n",
       "  {'label': 'Organization', 'symbol': 695    JKCEMENT.NS\n",
       "   Name: Symbol, dtype: object, 'sentiment': 0.05857142857142857},\n",
       "  {'label': 'Organization', 'symbol': 697    JKLAKSHMI.NS\n",
       "   Name: Symbol, dtype: object, 'sentiment': 0.05857142857142857},\n",
       "  {'label': 'Organization', 'symbol': 724    KAKATCEM.NS\n",
       "   Name: Symbol, dtype: object, 'sentiment': 0.05857142857142857},\n",
       "  {'label': 'Organization', 'symbol': 848    MANGLMCEM.NS\n",
       "   Name: Symbol, dtype: object, 'sentiment': 0.05857142857142857},\n",
       "  {'label': 'Organization', 'symbol': 1010    ORIENTCEM.NS\n",
       "   Name: Symbol, dtype: object, 'sentiment': 0.05857142857142857},\n",
       "  {'label': 'Organization', 'symbol': 1238    SHREDIGCEM.NS\n",
       "   Name: Symbol, dtype: object, 'sentiment': 0.05857142857142857},\n",
       "  {'label': 'Organization', 'symbol': 1239    SHREECEM.NS\n",
       "   Name: Symbol, dtype: object, 'sentiment': 0.05857142857142857},\n",
       "  {'label': 'Organization', 'symbol': 1301    STARCEMENT.NS\n",
       "   Name: Symbol, dtype: object, 'sentiment': 0.05857142857142857},\n",
       "  {'label': 'Organization', 'symbol': 248    CDSL.NS\n",
       "   Name: Symbol, dtype: object, 'sentiment': 0.05857142857142857},\n",
       "  {'label': 'Organization', 'symbol': 254    CENTRALBK.NS\n",
       "   Name: Symbol, dtype: object, 'sentiment': 0.05857142857142857}]}"
      ]
     },
     "execution_count": 46,
     "metadata": {},
     "output_type": "execute_result"
    }
   ],
   "source": [
    "def make_news_output_format(subsector_to_polarity, company_to_polarity, df):\n",
    "    news_output = {}\n",
    "    news_output['Params'] = list()\n",
    "    for key, value in subsector_to_polarity.items():\n",
    "        item_type = 'Commodity'\n",
    "        item_symbol = df[df['cleaned_subsector'] == key]['Symbol'][0]\n",
    "        item_sentiment = value\n",
    "        temp = dict()\n",
    "        temp['label'] =item_type\n",
    "        temp['symbol'] = item_symbol\n",
    "        temp['sentiment'] = item_sentiment\n",
    "        news_output['Params'].append(temp)\n",
    "    \n",
    "    for key, value in company_to_polarity.items():\n",
    "        item_type = 'Organization'\n",
    "        item_symbol = df[df['cleaned_companies'] == key]['Symbol'] + '.NS'\n",
    "        item_sentiment = value\n",
    "        temp = dict()\n",
    "        temp['label'] =item_type\n",
    "        temp['symbol'] = item_symbol\n",
    "        temp['sentiment'] = item_sentiment\n",
    "        news_output['Params'].append(temp)\n",
    "        \n",
    "    return news_output\n",
    "\n",
    "subsector_to_polarity, company_to_polarity = find_subsector_company_sentiment(document)        \n",
    "make_news_output_format(subsector_to_polarity, company_to_polarity, df)"
   ]
  },
  {
   "cell_type": "code",
   "execution_count": 44,
   "metadata": {},
   "outputs": [
    {
     "name": "stdout",
     "output_type": "stream",
     "text": [
      "(0, Symbol                                       20MICRONS\n",
      "Sector                                 Basic Materials\n",
      "Subsector             Other Industrial Metals & Mining\n",
      "Company                             20 Microns Limited\n",
      "beta                                          0.783931\n",
      "cleaned_companies                           20 microns\n",
      "cleaned_subsectors    other industrial metals & mining\n",
      "Name: 0, dtype: object)\n"
     ]
    },
    {
     "ename": "TypeError",
     "evalue": "tuple indices must be integers or slices, not str",
     "output_type": "error",
     "traceback": [
      "\u001b[1;31m---------------------------------------------------------------------------\u001b[0m",
      "\u001b[1;31mTypeError\u001b[0m                                 Traceback (most recent call last)",
      "\u001b[1;32m<ipython-input-44-30f1162aba0e>\u001b[0m in \u001b[0;36m<module>\u001b[1;34m\u001b[0m\n\u001b[0;32m      1\u001b[0m \u001b[1;32mfor\u001b[0m \u001b[0mrow\u001b[0m \u001b[1;32min\u001b[0m \u001b[0mdf\u001b[0m\u001b[1;33m.\u001b[0m\u001b[0miterrows\u001b[0m\u001b[1;33m(\u001b[0m\u001b[1;33m)\u001b[0m\u001b[1;33m:\u001b[0m\u001b[1;33m\u001b[0m\u001b[1;33m\u001b[0m\u001b[0m\n\u001b[0;32m      2\u001b[0m     \u001b[0mprint\u001b[0m\u001b[1;33m(\u001b[0m\u001b[0mrow\u001b[0m\u001b[1;33m)\u001b[0m\u001b[1;33m\u001b[0m\u001b[1;33m\u001b[0m\u001b[0m\n\u001b[1;32m----> 3\u001b[1;33m     \u001b[1;32mif\u001b[0m \u001b[0mrow\u001b[0m\u001b[1;33m[\u001b[0m\u001b[1;34m'cleaned_companies'\u001b[0m\u001b[1;33m]\u001b[0m\u001b[1;33m.\u001b[0m\u001b[0mstartswith\u001b[0m\u001b[1;33m(\u001b[0m\u001b[1;34m'ultra'\u001b[0m\u001b[1;33m)\u001b[0m\u001b[1;33m:\u001b[0m\u001b[1;33m\u001b[0m\u001b[1;33m\u001b[0m\u001b[0m\n\u001b[0m\u001b[0;32m      4\u001b[0m         \u001b[0mprint\u001b[0m\u001b[1;33m(\u001b[0m\u001b[0mrow\u001b[0m\u001b[1;33m[\u001b[0m\u001b[1;34m'cleaned_companies'\u001b[0m\u001b[1;33m]\u001b[0m\u001b[1;33m)\u001b[0m\u001b[1;33m\u001b[0m\u001b[1;33m\u001b[0m\u001b[0m\n",
      "\u001b[1;31mTypeError\u001b[0m: tuple indices must be integers or slices, not str"
     ]
    }
   ],
   "source": [
    "for row in df.iterrows():\n",
    "    print(row)\n",
    "    if row['cleaned_companies'].startswith('ultra'):\n",
    "        print(row['cleaned_companies'])"
   ]
  },
  {
   "cell_type": "code",
   "execution_count": 23,
   "metadata": {},
   "outputs": [],
   "source": [
    "document = \"\"\"NEW DELHI: This, perhaps, is the best time to buy a luxury car. The spec sheets for these swish sets of wheels are in real danger of being outdone by the swelling list of purchase offers: EMI holidays, extended loan tenures, and step-up repayment options.\n",
    "\n",
    "Mercedes Benz has tailored a bouquet of flexible financial solutions ‘Wish Box 2.0’. These draw-cards include extended loan tenures of 10 years, lower EMIs of Rs 1,499 per Rs 1 lakh, and EMI holidays for the first three months.\"\"\"\n"
   ]
  },
  {
   "cell_type": "markdown",
   "metadata": {},
   "source": [
    "## Test news extractor"
   ]
  },
  {
   "cell_type": "code",
   "execution_count": 18,
   "metadata": {
    "collapsed": true
   },
   "outputs": [
    {
     "name": "stdout",
     "output_type": "stream",
     "text": [
      "Organizations:\n",
      " ['completeurl', 'bloombergquint', 'top__28wgm', 'bq blue', 'union budget', 'union', 'coronavirus vaccine', 'rbi', 'fb8e1e', 'fineprint', 'elections', 'center__luymc', 'linkedin', 'adunit', 'gst', 'ipos', 'pwaeventdate', 'coronavirus outbreak', 'translatex', 'coronavirus pandemic', 'icici lombard', 'deferredprompt', 'scripttag', 'df0101', 'ff6564', 'corporate', 'nbcc', 'mrf', 'pgti', 'csr journal', 'mutual fund', 'news', 'markets', 'dell', 'rpg', 'mcx', 'lic', 'embassy group', 'hdfc', 'hdfc life', 'pti', 'telangana assembly election', 'mitsubishi electric', 'iifl', 'cfa', 'barriers', 'cleartax', 'real estate', 'real economy check', 'bank baroda', 'intel', 'pwadiff', 'of viral', 'bloomberg', 'moderna', 'eventmethod', 'eventname', 'optinmonsterapp', 'quint', 'business', 'whatsapp', 'americanexpress', 'bgbs', 'pnb fraud', 'bqportfolio videos', 'getdiffindays', 'addtohomescreen', 'parseint', 'doctype', 'moderna inc.', 'university oxford', 'mrna', 'rna', 'u.s. national institutes health', 'glaxosmithkline plc', 'newsarticle', 'mit license', 'buttontext', 'translatey', 'paytm', 'iframeslist', 'iframecontainer', 'iframeparent', 'adunitslist', 'adunitcontainer', 'messageevent', 'addlinktocopy', 'intersectionobserver', 'comscore_opts', 'js helper', 'referraldomainsrc', 'urlparts', 'optinmonster', 'quintillion media', 'company', 'engagement', 'sustainability', 'financial products', 'enterprise products', 'enterprise solutions', 'media', 'bloomberg politics', 'bloomberg view', 'news bureaus', 'customer support', 'americas', 'communications', 'industry products', 'media services', 'bloomberg live conferences', 'service center', 'telegram', 'coronavirus outbreak news', 'disclaimer', 'bq_story_banner_001', 'article_320x50', 'bq_leaderboard', 'bq_home_300x250_001', 'bq_section_mob_logo_125x125', 'davos_logo_125x75', 'davos_logo_300x50', 'davos_homepage_logo_300x55', 'davos_homepage_logo_150x55', 'davos_logo_100x75', 'davos_homepage_mobile_75x55', 'selectmedia_bq1x1', 'indeco', 'inb', 'indsup', 'inequity', 'inmoney', 'fed', 'bric', 'checo', 'bloombergquint studio', 'bloombergquint brand studio', 'mapicon', 'browsericon', 'paperplaneicon', 'sun pharma', 'upi', 'yoptima', 'isexternallink', 'fa1e64', 'top news', 'amazon news', 'business news', 'indiasbq', 'bbgs', 'pnb', 'bqportfolio', 'don', 'bloombergquint app', 'install', 'closedialog', 'ismobile', 'choiceresult', '__esmodule', 'cleartimeout']\n",
      "Location:\n",
      " ['China', 'India', 'Images', 'sans-serif', 'Arial', 'Videos', 'Financial', 'Error', 'Indian', 'Facebook', 'U.S.', 'New York', 'Vaccine', 'July', 'Moderna', 'Chinese', 'Europe', 'Middle East', 'Asia', 'Cambridge', 'Massachusetts', 'Notifications', 'Businessweek', 'Imagine', 'Per', 'Gadfly', 'Economy', 'Bitcoin', 'Aadhaar', 'Carnival', 'Right', 'Countdown', 'Latest', 'Home']\n",
      "Re Organizations:\n",
      " ['city union bank', 'shriram city union finance', 'union bank of india', 'hdfc asset management company', 'hdfc bank', 'hdfc life insurance company', 'iifl finance', 'iifl securities', 'iifl wealth management', 'lic housing finance', 'mrf', 'nbcc (india)', 'rpg life sciences', 'aspinwall and company', 'b.a.g films and media', 'balmer lawrie & company', 'bombay dyeing & mfg company', 'california software company', 'cholamandalam investment and finance company', 'diligent media corporation', 'elecon engineering company', 'elgi rubber company', 'energy development company', 'eros international media', 'the great eastern shipping company', 'gillanders arbuthnot & company', 'gujarat industries power company', 'orient green power company', 'the grob tea company', 'hindustan construction company', 'hindustan oil exploration company', 'hindustan media ventures', 'ht media', 'icici lombard general insurance company', 'icici prudential life insurance company', 'il&fs engineering and construction company', 'the indian hotels company', 'indian card clothing company', 'indian hume pipe company', 'jindal poly investment and finance company', 'kirloskar electric company', 'kalyani investment company', 'kaveri seed company', 'landmark property development company', 'manaksia aluminium company', 'mcnally bharat engineering company', 'national aluminium company', 'n. b. i. industrial finance company', 'network18 media & investments', 'the new india assurance company', 'noida toll bridge company', 'the orissa minerals development company', 'ortel communications', 'paramount communications', 'the peria karamalai tea & produce company', 'pnb gilts', 'pnb housing finance', 'pritish nandy communications', 'reliance communications', 'rupa & company', 'sab events & governance now media', 'sambhaav media', 'sbi life insurance company', 's chand and company', 'sel manufacturing company', 's h kelkar and company', 'sun pharma advanced research company', 'shriram transport finance company', 'sunflag iron and steel company', 'tata communications', 'tata power company', 'techno electric & engineering company', 'tide water oil company (india)', 'the tinplate company of india', 'titan company', 'tvs motor company', 'the united nilgiri tea estates company', 'williamson magor & company', 'zee media corporation', 'zodiac clothing company']\n"
     ]
    },
    {
     "data": {
      "text/plain": [
       "'Success'"
      ]
     },
     "execution_count": 18,
     "metadata": {},
     "output_type": "execute_result"
    }
   ],
   "source": [
    "import requests\n",
    "import urllib.parse\n",
    "url = \"https://www.bloombergquint.com/coronavirus-outbreak/vaccine-from-moderna-shows-early-signs-of-viral-immune-response\"\n",
    "response  = requests.get(url)\n",
    "\n",
    "nltk_eval(response.text)"
   ]
  },
  {
   "cell_type": "code",
   "execution_count": 19,
   "metadata": {},
   "outputs": [
    {
     "data": {
      "text/plain": [
       "<bound method Response.json of <Response [200]>>"
      ]
     },
     "execution_count": 19,
     "metadata": {},
     "output_type": "execute_result"
    }
   ],
   "source": [
    "response.json"
   ]
  },
  {
   "cell_type": "code",
   "execution_count": 45,
   "metadata": {},
   "outputs": [],
   "source": [
    "import lxml.html"
   ]
  },
  {
   "cell_type": "code",
   "execution_count": 65,
   "metadata": {},
   "outputs": [
    {
     "data": {
      "text/plain": [
       "[<Element div at 0x2dcfedd5598>]"
      ]
     },
     "execution_count": 65,
     "metadata": {},
     "output_type": "execute_result"
    }
   ],
   "source": [
    "url = \"https://www.bloombergquint.com/coronavirus-outbreak/vaccine-from-moderna-shows-early-signs-of-viral-immune-response\"\n",
    "response  = requests.get(url)\n",
    "doc = lxml.html.fromstring(response.content)\n",
    "tags = doc.xpath('//*[@class=\"story-element story-element-text\"]')\n",
    "total_tags = []\n",
    "for tag in tags:\n",
    "    total_tags.append(tag.text_content())\n",
    "tags"
   ]
  },
  {
   "cell_type": "code",
   "execution_count": 72,
   "metadata": {
    "collapsed": true
   },
   "outputs": [
    {
     "ename": "XMLSyntaxError",
     "evalue": "EntityRef: expecting ';', line 4, column 2589 (<string>, line 4)",
     "output_type": "error",
     "traceback": [
      "Traceback \u001b[1;36m(most recent call last)\u001b[0m:\n",
      "  File \u001b[0;32m\"C:\\Users\\Jayant\\Anaconda3\\envs\\ml\\lib\\site-packages\\IPython\\core\\interactiveshell.py\"\u001b[0m, line \u001b[0;32m3291\u001b[0m, in \u001b[0;35mrun_code\u001b[0m\n    exec(code_obj, self.user_global_ns, self.user_ns)\n",
      "  File \u001b[0;32m\"<ipython-input-72-96a13e564218>\"\u001b[0m, line \u001b[0;32m2\u001b[0m, in \u001b[0;35m<module>\u001b[0m\n    root = lxml.etree.fromstring(response.content)\n",
      "  File \u001b[0;32m\"src\\lxml\\etree.pyx\"\u001b[0m, line \u001b[0;32m3236\u001b[0m, in \u001b[0;35mlxml.etree.fromstring\u001b[0m\n",
      "  File \u001b[0;32m\"src\\lxml\\parser.pxi\"\u001b[0m, line \u001b[0;32m1876\u001b[0m, in \u001b[0;35mlxml.etree._parseMemoryDocument\u001b[0m\n",
      "  File \u001b[0;32m\"src\\lxml\\parser.pxi\"\u001b[0m, line \u001b[0;32m1764\u001b[0m, in \u001b[0;35mlxml.etree._parseDoc\u001b[0m\n",
      "  File \u001b[0;32m\"src\\lxml\\parser.pxi\"\u001b[0m, line \u001b[0;32m1127\u001b[0m, in \u001b[0;35mlxml.etree._BaseParser._parseDoc\u001b[0m\n",
      "  File \u001b[0;32m\"src\\lxml\\parser.pxi\"\u001b[0m, line \u001b[0;32m601\u001b[0m, in \u001b[0;35mlxml.etree._ParserContext._handleParseResultDoc\u001b[0m\n",
      "  File \u001b[0;32m\"src\\lxml\\parser.pxi\"\u001b[0m, line \u001b[0;32m711\u001b[0m, in \u001b[0;35mlxml.etree._handleParseResult\u001b[0m\n",
      "\u001b[1;36m  File \u001b[1;32m\"src\\lxml\\parser.pxi\"\u001b[1;36m, line \u001b[1;32m640\u001b[1;36m, in \u001b[1;35mlxml.etree._raiseParseError\u001b[1;36m\u001b[0m\n",
      "\u001b[1;36m  File \u001b[1;32m\"<string>\"\u001b[1;36m, line \u001b[1;32m4\u001b[0m\n\u001b[1;31mXMLSyntaxError\u001b[0m\u001b[1;31m:\u001b[0m EntityRef: expecting ';', line 4, column 2589\n"
     ]
    }
   ],
   "source": [
    "import lxml.etree\n",
    "root = lxml.etree.fromstring(response.content)\n",
    "for elem in root.xpath('//*[@class=\"story-element story-element-text\"]'):\n",
    "    print(\"j\")"
   ]
  },
  {
   "cell_type": "code",
   "execution_count": null,
   "metadata": {},
   "outputs": [],
   "source": []
  }
 ],
 "metadata": {
  "kernelspec": {
   "display_name": "Python 3",
   "language": "python",
   "name": "python3"
  },
  "language_info": {
   "codemirror_mode": {
    "name": "ipython",
    "version": 3
   },
   "file_extension": ".py",
   "mimetype": "text/x-python",
   "name": "python",
   "nbconvert_exporter": "python",
   "pygments_lexer": "ipython3",
   "version": "3.7.2"
  }
 },
 "nbformat": 4,
 "nbformat_minor": 2
}
