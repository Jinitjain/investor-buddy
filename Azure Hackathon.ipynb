{
 "cells": [
  {
   "cell_type": "markdown",
   "metadata": {},
   "source": [
    "# Azure hackathon"
   ]
  },
  {
   "cell_type": "markdown",
   "metadata": {},
   "source": [
    "## Import"
   ]
  },
  {
   "cell_type": "code",
   "execution_count": 1,
   "metadata": {},
   "outputs": [
    {
     "name": "stderr",
     "output_type": "stream",
     "text": [
      "[nltk_data] Downloading package stopwords to\n",
      "[nltk_data]     C:\\Users\\Jayant\\AppData\\Roaming\\nltk_data...\n",
      "[nltk_data]   Package stopwords is already up-to-date!\n",
      "[nltk_data] Downloading package punkt to\n",
      "[nltk_data]     C:\\Users\\Jayant\\AppData\\Roaming\\nltk_data...\n",
      "[nltk_data]   Package punkt is already up-to-date!\n",
      "[nltk_data] Downloading package averaged_perceptron_tagger to\n",
      "[nltk_data]     C:\\Users\\Jayant\\AppData\\Roaming\\nltk_data...\n",
      "[nltk_data]   Package averaged_perceptron_tagger is already up-to-\n",
      "[nltk_data]       date!\n",
      "[nltk_data] Downloading package maxent_ne_chunker to\n",
      "[nltk_data]     C:\\Users\\Jayant\\AppData\\Roaming\\nltk_data...\n",
      "[nltk_data]   Package maxent_ne_chunker is already up-to-date!\n",
      "[nltk_data] Downloading package words to\n",
      "[nltk_data]     C:\\Users\\Jayant\\AppData\\Roaming\\nltk_data...\n",
      "[nltk_data]   Package words is already up-to-date!\n"
     ]
    }
   ],
   "source": [
    "import nltk\n",
    "nltk.download('stopwords')\n",
    "nltk.download('punkt')\n",
    "nltk.download('averaged_perceptron_tagger')\n",
    "nltk.download('maxent_ne_chunker')\n",
    "nltk.download('words')\n",
    "from nltk.corpus import stopwords\n",
    "stop = stopwords.words('english')\n",
    "\n",
    "import numpy as np\n",
    "import pandas as pd\n",
    "\n",
    "# !pip3 install textblob\n",
    "# !python3 -m textblob.download_corpora\n",
    "\n",
    "from textblob import TextBlob\n"
   ]
  },
  {
   "cell_type": "code",
   "execution_count": 3,
   "metadata": {},
   "outputs": [],
   "source": [
    "# nltk.download()\n",
    "from nltk.corpus import stopwords\n",
    "stop = stopwords.words('english')\n",
    "# stop = list(map(lambda x: x.upper(),stop))\n",
    "stop.remove('in')\n",
    "stop.remove('at')\n",
    "stop.remove('and')\n",
    "stop.remove('to')\n"
   ]
  },
  {
   "cell_type": "markdown",
   "metadata": {},
   "source": [
    "## Get article in document"
   ]
  },
  {
   "cell_type": "markdown",
   "metadata": {},
   "source": [
    "### Jinit Code"
   ]
  },
  {
   "cell_type": "code",
   "execution_count": 31,
   "metadata": {},
   "outputs": [],
   "source": [
    "# CNBC news article's scrapper\n",
    "import requests \n",
    "from bs4 import BeautifulSoup\n",
    "\n",
    "def extract_article (url):\n",
    "    # request for article web page\n",
    "    req = requests.get(url) \n",
    "\n",
    "    # extract html data using the 'lxml' parser  \n",
    "    soup = BeautifulSoup(req.content, 'lxml')\n",
    "\n",
    "    # extract news article's headline  \n",
    "    headline = soup.find('h1', class_=\"ArticleHeader-headline\").text\n",
    "\n",
    "    # extract news description\n",
    "    description = ''\n",
    "    news_desc = soup.find_all('div', class_=\"group\")\n",
    "    for desc in news_desc:\n",
    "        description = description + desc.text\n",
    "\n",
    "    return headline, description\n",
    "\n",
    "document = extract_article(\"https://www.cnbc.com/2020/05/22/coronavirus-goldman-sachs-on-india-growth-gdp-forecast.html\")"
   ]
  },
  {
   "cell_type": "code",
   "execution_count": 4,
   "metadata": {},
   "outputs": [],
   "source": [
    "document = \"\"\"Lower costs and stable pricing came to the rescue of UltraTech, even as the pandemic impacted its March quarter performance. UltraTech Cement reported a 6% year-on-year increase in its consolidated net profit at Rs 1,131 crore for the quarter ended March 31. This is the company’s normalised profit.\n",
    "\n",
    "The company has reported both normalised and net profit numbers this quarter, on account of deferred tax liabilities because of change in the tax regime from 35% to the new 25%. Normalised profit after tax (PAT) of Rs 1,131 crore is before considering the benefit of Rs 2,112 crore of reversal of deferred tax liabilities as on April 1, 2019, due to change in income tax rates. The company’s reported net profit stood at Rs 3,243 crore, including the gain of deferred tax liabilities (DTLs).\n",
    "\n",
    "RELATED NEWS\n",
    "Big 4 auditors have lost credibility among 57% investors: IiAS surveyBig 4 auditors have lost credibility among 57% investors: IiAS surveyDo mutual fund managers justify their fees? Here's how fund alpha compares with management feesDo mutual fund managers justify their fees? Here's how fund alpha compares with management fees\n",
    "\n",
    "According to HDFC Securities Institutional Research Desk, UltraTech’s volumes suffered (down 16% y-o-y) in the March quarter owing to the Covid-19 impact. However, stable pricing and lower energy cost drove unitary ebitda expansion 14% y-o-y to a solid Rs 1139/MT (up 13% quarter-on-quarter), thus moderating consolidated earnings before interest, taxes, depreciation and amortisation (ebitda) decline to 4% y-o-y. “Subsequently, higher treasury gains and lower tax rate drove up adjusted PAT by 6% y-o-y. During FY20, strong profits (ebitda/apat up 28/51%), along with working capital release and flattish capex boosted free cashflows and its net debt fell 25% y-o-y to `16.9 billion. Net debt/ebitda cooled off to 1.8x vs 3x y-o-y,” the brokerage said.\n",
    "\n",
    "The consolidated revenue from operations declined 13% y-o-y to Rs 10,579 crore on account of disruptions led by Covid-19 related shutdowns, resulting in lower sales volumes during the quarter and the full year. “In the face of the unprecedented situation arising out of the pandemic, the company’s operations across locations were shut down in line with the government directives. Construction activity across the country was halted, which is normally at its peak in the month of March, leading to an adverse impact on the company’s operations during the quarter ended March 31, 2020,” the company statement said.\n",
    "\n",
    "Consolidated sales volume suffered a sharp decline of 16% to 21.44 million tonne in Q4FY20, while for the full year volumes fell 4% to 82.33 million tonne.\n",
    "\n",
    "However, the consolidated ebitda remained flat at Rs 2,639 crore, supported by lower fuel and logistics costs, though, impacted by higher raw material prices. Consequently, consolidated ebitda margins came in at 25%, a rise of 300 basis points against the figures of fourth quarter last year.\n",
    "\n",
    "Logistics costs declined 3% y-o-y to Rs 1149 per tonne on account of benefit due to exemption of railway busy-season surcharge. The energy costs were lower by 13% y-o-y to Rs 914 per tonne with benefit from lower fuel prices and increased pet coke usage. The raw material costs increased 5% y-o-y to Rs 497 per tonne. This was on account of higher fly ash prices and increased share of new products.\n",
    "\n",
    "Meanwhile, cement dealers across the country expect significantly sluggish sales, elongated credit period to retailers, and higher working capital needs in the wake of the Covid-19 pandemic this financial year, according to a Crisil survey. Majority of the dealers surveyed said they expected volumes to shrink 10-30% in financial year 2020-2021 in the base case scenario, if the lockdown eases in May. “Extension beyond this can worsen these figures,” rating agency noted.\n",
    "\n",
    "Cement prices trend in May, to date, indicates that prices have been increased by Rs 20-30 per bag in the North, Central and West markets; Rs 20-50 per bag in the East markets (Rs 20-25 per bag in all states except Bihar where the price hike is Rs 50 per bag), and Rs 40-90 per bag in the south region. “If these prices sustain, price improvement in Q1FY21 should be at 6-16% quarter-on-quarter, much higher than our expectation of 0-1% q-o-q price increase. Current cement prices in the North, Central and South (net of all discounts) markets are at all-time high levels,” analysts at Emkay Research said in a recent report.\"\"\""
   ]
  },
  {
   "cell_type": "code",
   "execution_count": 36,
   "metadata": {},
   "outputs": [
    {
     "data": {
      "text/plain": [
       "'Goldman Sachs gives India\\'s growth forecast a \\'gigantic downgrade\\' Goldman Sachs revised its growth forecast for India and said the economy is expected to contract by 5% for the fiscal year that began in April and ends in March 2021.\\xa0Prachi Mishra, chief India economist at the investment bank, said two reasons factored in the forecast revision: the poor set of economic data released in March and April as well as the extended nationwide lockdown that is expected at least until end of May.\\xa0The extended period of lockdown in India due to the coronavirus outbreak is set to take a toll on the country\\'s growth outlook, according to investment bank Goldman Sachs.\\xa0The bank revised its growth prediction this week for the full fiscal year in India that began in April and will end in March 2021. Gross domestic product is expected to contract by 5% for the year, worsening from the bank\\'s earlier prediction of a negative 0.4% growth.\\xa0\"This is a really gigantic downgrade,\" Prachi Mishra, chief India economist at Goldman Sachs, told CNBC\\'s \"Street Signs\" on Friday. \"A forecast of minus 5% for the year as a whole would be as deep as compared to the deepest recession India has witnessed since 1979.\"\\xa0India\\'s first-quarter GDP data is expected next week and the outlook remains bleak among economists.The South Asian country was already facing an economic slowdown before the virus outbreak pushed the government to impose a nationwide lockdown that began in late March and has subsequently been extended multiple times at least until the end of May. Economic activity grounded to a halt as a result, affecting millions of small businesses as well as large corporations, while millions of people lost their jobs.\\xa0India now has over 118,000 cases of infections and more than 3,500 people have died, according to the health ministry.\\xa0Goldman\\'s Mishra said the economic impact in the three months between April to June is expected to be severe. Goldman Sachs predicted a massive 45% decline from the previous quarter in annualized terms, compared to an earlier forecast of negative 20% growth.\\xa0\"This is really due to two reasons: One is the extremely poor economic data in March and April,\" Mishra said. \"The second reason\\xa0for this deeper trough is that we are incorporating the effects of the lockdown extension.\"\\xa0India\\'s services activity collapsed last month, according to a study. April exports fell by more than 36% while imports declined by over 47%, government data showed.\\xa0The investment bank also said in its report that up until May 17, major parts of the economy operated at significantly less than full capacity, which is likely to continue weighing on economic activity. To be clear, some activities have gradually started to resume in low-risk districts around India.\\xa0Ratings agency Moody\\'s also sounded the alarm Friday in a new report, where it said the economic damage due to the lockdown will likely be \"extensive and reflect (India\\'s)\\xa0inherent economic vulnerability and fiscal constraints.\" Fragile household consumption and sluggish business activity are expected to result in a \"sharp decline\" in growth, Moody\\'s said.\\xa0To mitigate the economic fallout, Prime Minister Narendra Modi\\'s government announced a $266 billion support package containing both fiscal and monetary measures, said to be worth around 10% of India\\'s GDP. But, economists have said the package will do little to stimulate growth as it includes very little planned government spending and benefits of several measures are expected to only be seen in the medium term.\\xa0Mishra said Goldman\\'s calculations showed the discretionary component of the fiscal support announced thus far, which would give direct financial support to households and businesses, remains small, at 1.3% of GDP.\\xa0That figure is comparatively\\xa0lower\\xa0than what other economies have announced and much less aggressive than India\\'s policy response to the global financial crisis in the last decade.\\xa0Still, the investment bank expects a \"strong sequential rebound\" in subsequent quarters.\\xa0'"
      ]
     },
     "execution_count": 36,
     "metadata": {},
     "output_type": "execute_result"
    }
   ],
   "source": [
    "\" \".join(document)"
   ]
  },
  {
   "cell_type": "markdown",
   "metadata": {},
   "source": [
    "## Process Document"
   ]
  },
  {
   "cell_type": "code",
   "execution_count": 41,
   "metadata": {},
   "outputs": [],
   "source": [
    "def nltk_process(document):\n",
    "    document = \" \".join([i for i in document.split() if i not in stop])\n",
    "    sentences = nltk.sent_tokenize(document)\n",
    "    sentences = [nltk.word_tokenize(sent) for sent in sentences]\n",
    "    sentences = [nltk.pos_tag(sent) for sent in sentences]\n",
    "    return sentences\n",
    "\n",
    "def nltk_eval(document):\n",
    "    chunkGram = r\"\"\"\n",
    "    ADDRESS: {<JJ.?|CD.?>+<CD.?|JJ.?|NNP.?>+<CD|NNP>+}\n",
    "    TEST : {}\n",
    "    NP: {<DT|JJ|NN.*>+}\n",
    "    \"\"\"\n",
    "    organization = {}\n",
    "    location = {}\n",
    "    chunkParser = nltk.RegexpParser(chunkGram)\n",
    "    for tagged_sentence in nltk_process(document):\n",
    "            for chunk in nltk.ne_chunk(tagged_sentence):\n",
    "                if type(chunk) == nltk.tree.Tree:\n",
    "                    if chunk.label() == 'ORGANIZATION':\n",
    "                        ## Organization is found\n",
    "                        temp = (' '.join([c[0] for c in chunk])).lower()\n",
    "                        if temp in organization:\n",
    "                            organization[temp] += 1\n",
    "                        else:\n",
    "                            organization[temp] = 1\n",
    "                    if chunk.label() == 'GPE':\n",
    "                        temp = ' '.join([c[0] for c in chunk])\n",
    "                        if temp in location:\n",
    "                            location[temp] += 1\n",
    "                        else:\n",
    "                            location[temp] = 1\n",
    "    organization = {k: v for k, v in sorted(organization.items(), key=lambda item: item[1], reverse=True)}\n",
    "    location = {k: v for k, v in sorted(location.items(), key=lambda item: item[1], reverse=True)}\n",
    "    \n",
    "    print(\"Organizations:\\n\",list(organization.keys()))\n",
    "    # print(\"Location:\\n\",list(location.keys()))\n",
    "                            \n",
    "    return organization, location\n",
    "    # return names, organization, location, address, other"
   ]
  },
  {
   "cell_type": "markdown",
   "metadata": {},
   "source": [
    "## Setting up one time company and subsector loading"
   ]
  },
  {
   "cell_type": "markdown",
   "metadata": {},
   "source": [
    "### Utilities function"
   ]
  },
  {
   "cell_type": "code",
   "execution_count": 6,
   "metadata": {},
   "outputs": [],
   "source": [
    "def clean_companies(companies):\n",
    "    cleaned_companies = []\n",
    "    for c in companies:\n",
    "        x = c.lower()\n",
    "        if x.endswith('limited'):\n",
    "            x = x[:-8]\n",
    "        elif x.endswith('ltd'):\n",
    "            x = x[:-4]\n",
    "        elif x.endswith('limited.'):\n",
    "            x = x[:-9]\n",
    "        elif x.endswith('ltd.'):\n",
    "            x = x[:-5]\n",
    "        else:\n",
    "            print(x)\n",
    "        cleaned_companies.append(x)\n",
    "    return cleaned_companies\n",
    "\n",
    "def clean_subsectors(subsector):\n",
    "    return subsector.str.lower()\n",
    "    "
   ]
  },
  {
   "cell_type": "markdown",
   "metadata": {},
   "source": [
    "### Old"
   ]
  },
  {
   "cell_type": "code",
   "execution_count": 7,
   "metadata": {},
   "outputs": [
    {
     "data": {
      "text/html": [
       "<div>\n",
       "<style scoped>\n",
       "    .dataframe tbody tr th:only-of-type {\n",
       "        vertical-align: middle;\n",
       "    }\n",
       "\n",
       "    .dataframe tbody tr th {\n",
       "        vertical-align: top;\n",
       "    }\n",
       "\n",
       "    .dataframe thead th {\n",
       "        text-align: right;\n",
       "    }\n",
       "</style>\n",
       "<table border=\"1\" class=\"dataframe\">\n",
       "  <thead>\n",
       "    <tr style=\"text-align: right;\">\n",
       "      <th></th>\n",
       "      <th>SYMBOL</th>\n",
       "      <th>NAME OF COMPANY</th>\n",
       "      <th>SERIES</th>\n",
       "      <th>DATE OF LISTING</th>\n",
       "      <th>PAID UP VALUE</th>\n",
       "      <th>MARKET LOT</th>\n",
       "      <th>ISIN NUMBER</th>\n",
       "      <th>FACE VALUE</th>\n",
       "    </tr>\n",
       "  </thead>\n",
       "  <tbody>\n",
       "    <tr>\n",
       "      <th>0</th>\n",
       "      <td>20MICRONS</td>\n",
       "      <td>20 Microns Limited</td>\n",
       "      <td>EQ</td>\n",
       "      <td>06-OCT-2008</td>\n",
       "      <td>5</td>\n",
       "      <td>1</td>\n",
       "      <td>INE144J01027</td>\n",
       "      <td>5</td>\n",
       "    </tr>\n",
       "    <tr>\n",
       "      <th>1</th>\n",
       "      <td>21STCENMGM</td>\n",
       "      <td>21st Century Management Services Limited</td>\n",
       "      <td>EQ</td>\n",
       "      <td>03-MAY-1995</td>\n",
       "      <td>10</td>\n",
       "      <td>1</td>\n",
       "      <td>INE253B01015</td>\n",
       "      <td>10</td>\n",
       "    </tr>\n",
       "    <tr>\n",
       "      <th>2</th>\n",
       "      <td>3IINFOTECH</td>\n",
       "      <td>3i Infotech Limited</td>\n",
       "      <td>EQ</td>\n",
       "      <td>22-APR-2005</td>\n",
       "      <td>10</td>\n",
       "      <td>1</td>\n",
       "      <td>INE748C01020</td>\n",
       "      <td>10</td>\n",
       "    </tr>\n",
       "    <tr>\n",
       "      <th>3</th>\n",
       "      <td>3MINDIA</td>\n",
       "      <td>3M India Limited</td>\n",
       "      <td>EQ</td>\n",
       "      <td>13-AUG-2004</td>\n",
       "      <td>10</td>\n",
       "      <td>1</td>\n",
       "      <td>INE470A01017</td>\n",
       "      <td>10</td>\n",
       "    </tr>\n",
       "    <tr>\n",
       "      <th>4</th>\n",
       "      <td>3PLAND</td>\n",
       "      <td>3P Land Holdings Limited</td>\n",
       "      <td>EQ</td>\n",
       "      <td>19-JUL-1995</td>\n",
       "      <td>2</td>\n",
       "      <td>1</td>\n",
       "      <td>INE105C01023</td>\n",
       "      <td>2</td>\n",
       "    </tr>\n",
       "  </tbody>\n",
       "</table>\n",
       "</div>"
      ],
      "text/plain": [
       "       SYMBOL                           NAME OF COMPANY  SERIES  \\\n",
       "0   20MICRONS                        20 Microns Limited      EQ   \n",
       "1  21STCENMGM  21st Century Management Services Limited      EQ   \n",
       "2  3IINFOTECH                       3i Infotech Limited      EQ   \n",
       "3     3MINDIA                          3M India Limited      EQ   \n",
       "4      3PLAND                  3P Land Holdings Limited      EQ   \n",
       "\n",
       "   DATE OF LISTING   PAID UP VALUE   MARKET LOT   ISIN NUMBER   FACE VALUE  \n",
       "0      06-OCT-2008               5            1  INE144J01027            5  \n",
       "1      03-MAY-1995              10            1  INE253B01015           10  \n",
       "2      22-APR-2005              10            1  INE748C01020           10  \n",
       "3      13-AUG-2004              10            1  INE470A01017           10  \n",
       "4      19-JUL-1995               2            1  INE105C01023            2  "
      ]
     },
     "execution_count": 7,
     "metadata": {},
     "output_type": "execute_result"
    }
   ],
   "source": [
    "df = pd.read_csv('EQUITY_L.csv')\n",
    "df.head()"
   ]
  },
  {
   "cell_type": "code",
   "execution_count": 8,
   "metadata": {},
   "outputs": [
    {
     "name": "stdout",
     "output_type": "stream",
     "text": [
      "bank of baroda\n",
      "bank of india\n",
      "canara bank\n",
      "central bank of india\n",
      "general insurance corporation of india\n",
      "indian bank\n",
      "indian overseas bank\n",
      "bank of maharashtra\n",
      "punjab national bank\n",
      "punjab & sind bank\n",
      "state bank of india\n",
      "uco bank\n",
      "union bank of india\n"
     ]
    }
   ],
   "source": [
    "companies = list(df['NAME OF COMPANY'].values)\n",
    "cleaned_companies = clean_companies(companies)\n",
    "# print(cleaned_companies)"
   ]
  },
  {
   "cell_type": "markdown",
   "metadata": {},
   "source": [
    "### New"
   ]
  },
  {
   "cell_type": "code",
   "execution_count": 9,
   "metadata": {},
   "outputs": [
    {
     "data": {
      "text/html": [
       "<div>\n",
       "<style scoped>\n",
       "    .dataframe tbody tr th:only-of-type {\n",
       "        vertical-align: middle;\n",
       "    }\n",
       "\n",
       "    .dataframe tbody tr th {\n",
       "        vertical-align: top;\n",
       "    }\n",
       "\n",
       "    .dataframe thead th {\n",
       "        text-align: right;\n",
       "    }\n",
       "</style>\n",
       "<table border=\"1\" class=\"dataframe\">\n",
       "  <thead>\n",
       "    <tr style=\"text-align: right;\">\n",
       "      <th></th>\n",
       "      <th>Symbol</th>\n",
       "      <th>Sector</th>\n",
       "      <th>Subsector</th>\n",
       "      <th>Company</th>\n",
       "      <th>beta</th>\n",
       "    </tr>\n",
       "  </thead>\n",
       "  <tbody>\n",
       "    <tr>\n",
       "      <th>0</th>\n",
       "      <td>20MICRONS</td>\n",
       "      <td>Basic Materials</td>\n",
       "      <td>Other Industrial Metals &amp; Mining</td>\n",
       "      <td>20 Microns Limited</td>\n",
       "      <td>0.783931</td>\n",
       "    </tr>\n",
       "    <tr>\n",
       "      <th>1</th>\n",
       "      <td>3IINFOTECH</td>\n",
       "      <td>Technology</td>\n",
       "      <td>Information Technology Services</td>\n",
       "      <td>3i Infotech Limited</td>\n",
       "      <td>1.167706</td>\n",
       "    </tr>\n",
       "    <tr>\n",
       "      <th>2</th>\n",
       "      <td>3MINDIA</td>\n",
       "      <td>Industrials</td>\n",
       "      <td>Conglomerates</td>\n",
       "      <td>3M India Limited</td>\n",
       "      <td>0.389235</td>\n",
       "    </tr>\n",
       "    <tr>\n",
       "      <th>3</th>\n",
       "      <td>8KMILES</td>\n",
       "      <td>Technology</td>\n",
       "      <td>Software-Application</td>\n",
       "      <td>8K Miles Software Services Limited</td>\n",
       "      <td>1.102964</td>\n",
       "    </tr>\n",
       "    <tr>\n",
       "      <th>4</th>\n",
       "      <td>A2ZINFRA</td>\n",
       "      <td>Industrials</td>\n",
       "      <td>Engineering &amp; Construction</td>\n",
       "      <td>A2Z Infra Engineering Limited</td>\n",
       "      <td>0.549921</td>\n",
       "    </tr>\n",
       "  </tbody>\n",
       "</table>\n",
       "</div>"
      ],
      "text/plain": [
       "       Symbol             Sector                          Subsector  \\\n",
       "0   20MICRONS   Basic Materials    Other Industrial Metals & Mining   \n",
       "1  3IINFOTECH        Technology     Information Technology Services   \n",
       "2     3MINDIA       Industrials                       Conglomerates   \n",
       "3     8KMILES        Technology                Software-Application   \n",
       "4    A2ZINFRA       Industrials          Engineering & Construction   \n",
       "\n",
       "                              Company      beta  \n",
       "0                  20 Microns Limited  0.783931  \n",
       "1                 3i Infotech Limited  1.167706  \n",
       "2                    3M India Limited  0.389235  \n",
       "3  8K Miles Software Services Limited  1.102964  \n",
       "4       A2Z Infra Engineering Limited  0.549921  "
      ]
     },
     "execution_count": 9,
     "metadata": {},
     "output_type": "execute_result"
    }
   ],
   "source": [
    "df = pd.read_csv('finalBetaDB.csv')\n",
    "df.rename(columns={' Sector': 'Sector', ' Sub-sector':'Subsector'}, inplace=True)\n",
    "df = df.replace(np.nan, '', regex=True)\n",
    "df.head()"
   ]
  },
  {
   "cell_type": "code",
   "execution_count": 10,
   "metadata": {},
   "outputs": [],
   "source": [
    "cols = ['Sector', 'Subsector']\n",
    "for col in cols:\n",
    "    df[col] = df[col].str.strip()"
   ]
  },
  {
   "cell_type": "code",
   "execution_count": 11,
   "metadata": {},
   "outputs": [
    {
     "name": "stdout",
     "output_type": "stream",
     "text": [
      "bank of baroda\n",
      "bank of india\n",
      "canara bank\n",
      "central bank of india\n",
      "general insurance corporation of india\n",
      "indian bank\n",
      "indian overseas bank\n",
      "bank of maharashtra\n",
      "punjab national bank\n",
      "punjab & sind bank\n",
      "state bank of india\n",
      "uco bank\n",
      "union bank of india\n"
     ]
    }
   ],
   "source": [
    "cleaned_companies = clean_companies(df['Company'])\n",
    "cleaned_subsectors = clean_subsectors(df['Subsector'])\n",
    "# print(cleaned_companies)\n",
    "# print(cleaned_subsectors)"
   ]
  },
  {
   "cell_type": "markdown",
   "metadata": {},
   "source": [
    "## Finding sentiment"
   ]
  },
  {
   "cell_type": "code",
   "execution_count": 12,
   "metadata": {},
   "outputs": [
    {
     "name": "stdout",
     "output_type": "stream",
     "text": [
      "Organizations:\n",
      " ['ultratech', 'pat', 'central', 'cement', 'dtls', 'related', 'news', 'iias', 'feesdo', 'hdfc securities institutional', 'fy20', 'q1fy21', 'emkay research']\n",
      "Location:\n",
      " ['North', 'Normalised', 'March', 'Q4FY20', 'Crisil', 'Majority', 'Cement', 'West', 'East', 'Bihar', 'South']\n",
      "{'ultratech': 3, 'pat': 2, 'central': 2, 'cement': 1, 'dtls': 1, 'related': 1, 'news': 1, 'iias': 1, 'feesdo': 1, 'hdfc securities institutional': 1, 'fy20': 1, 'q1fy21': 1, 'emkay research': 1}\n"
     ]
    }
   ],
   "source": [
    "organization, _ = nltk_eval(document)\n",
    "print(organization)"
   ]
  },
  {
   "cell_type": "code",
   "execution_count": 13,
   "metadata": {},
   "outputs": [],
   "source": [
    "def find_subsectors(organizations, cleaned_subsectors):\n",
    "    \"\"\"Find subsectors in organization\"\"\"\n",
    "    \n",
    "    organ_to_subsector = {}\n",
    "    for subsector in cleaned_subsectors:\n",
    "        for organization in organizations.keys():\n",
    "            if organization in subsector.split(' '):\n",
    "                if organization not in organ_to_subsector:\n",
    "                    organ_to_subsector[organization] = list()\n",
    "                organ_to_subsector[organization].append(subsector)\n",
    "    return organ_to_subsector\n",
    "\n",
    "def find_companies(organizations, cleaned_companies):\n",
    "    \n",
    "    organ_to_company = {}\n",
    "    for company in cleaned_companies:\n",
    "        for organization in organizations.keys():\n",
    "            if organization in company.split(' '):\n",
    "                if organization not in organ_to_company:\n",
    "                    organ_to_company[organization] = list()\n",
    "                organ_to_company[organization].append(company)\n",
    "    return organ_to_company\n",
    "\n",
    "def find_organ_context(document, organization):\n",
    "    count_sentences = 0\n",
    "    organ_to_sentenceid = {}\n",
    "    for sentence in document.split('.'):\n",
    "        count_sentences += 1\n",
    "        for organ in organization.keys():\n",
    "            if organ in sentence.lower():\n",
    "                if organ not in organ_to_sentenceid:\n",
    "                    organ_to_sentenceid[organ] = list()\n",
    "                organ_to_sentenceid[organ].append(count_sentences)\n",
    "    return organ_to_sentenceid, count_sentences\n",
    "\n",
    "def remove_other_organization(organizations, organ_to_subsector, organ_to_company):\n",
    "    dict_organizations = organizations.copy()\n",
    "    for organization in organizations.keys():\n",
    "        if organization not in (organ_to_subsector.keys() or organ_to_company.keys()):\n",
    "            dict_organizations.pop(organization)\n",
    "    return dict_organizations"
   ]
  },
  {
   "cell_type": "code",
   "execution_count": 14,
   "metadata": {},
   "outputs": [],
   "source": [
    "organ_to_subsector = find_subsectors(organization, cleaned_subsectors)\n",
    "organ_to_company = find_companies(organization, cleaned_companies)"
   ]
  },
  {
   "cell_type": "code",
   "execution_count": 23,
   "metadata": {},
   "outputs": [
    {
     "name": "stdout",
     "output_type": "stream",
     "text": [
      "Document sentiment :  Sentiment(polarity=0.0697366143957053, subjectivity=0.37840785477149114)\n"
     ]
    }
   ],
   "source": [
    "s = TextBlob(document)\n",
    "print(\"Document sentiment : \", s.sentiment)"
   ]
  },
  {
   "cell_type": "code",
   "execution_count": 16,
   "metadata": {},
   "outputs": [
    {
     "data": {
      "text/plain": [
       "{'ultratech': 3, 'central': 2, 'cement': 1}"
      ]
     },
     "execution_count": 16,
     "metadata": {},
     "output_type": "execute_result"
    }
   ],
   "source": [
    "updated_organizatation = remove_other_organization(organization, organ_to_subsector, organ_to_company)\n",
    "updated_organizatation"
   ]
  },
  {
   "cell_type": "code",
   "execution_count": 17,
   "metadata": {},
   "outputs": [
    {
     "data": {
      "text/plain": [
       "{'ultratech': [1, 2, 7], 'cement': [2, 26, 29, 31], 'central': [29, 31]}"
      ]
     },
     "execution_count": 17,
     "metadata": {},
     "output_type": "execute_result"
    }
   ],
   "source": [
    "organ_to_sentenceid, total_sentences = find_organ_context(document, updated_organizatation)\n",
    "organ_to_sentenceid"
   ]
  },
  {
   "cell_type": "code",
   "execution_count": 18,
   "metadata": {},
   "outputs": [
    {
     "name": "stdout",
     "output_type": "stream",
     "text": [
      "{'ultratech': [0.04545454545454545, 0.0028409090909090884, 0.15462962962962962], 'cement': [0.0028409090909090884, -0.03928571428571429, 0.05857142857142857, 0.032], 'central': [0.05857142857142857, 0.032]}\n"
     ]
    }
   ],
   "source": [
    "def find_sentiment_of_context(document, organ_to_sentenceid, total_sentences):\n",
    "    list_of_sentences = document.split('.')\n",
    "    polarity_of_organ = {}\n",
    "\n",
    "    for item, value in organ_to_sentenceid.items():\n",
    "        polarity_of_organ[item] = list()\n",
    "        for i in value:\n",
    "            lower_value = i-1\n",
    "            upper_value = i+2\n",
    "            if lower_value < 0:\n",
    "                lower_value = 0\n",
    "            if upper_value > total_sentences:\n",
    "                upper_value = total_sentences\n",
    "            current_context = str(list_of_sentences[lower_value:upper_value+1])\n",
    "            current_context = TextBlob(current_context)\n",
    "            polarity_of_organ[item].append(current_context.sentiment.polarity)\n",
    "\n",
    "    # print(polarity_of_organ)\n",
    "    return polarity_of_organ\n",
    "\n",
    "polarity_of_organ = find_sentiment_of_context(document, organ_to_sentenceid, total_sentences)"
   ]
  },
  {
   "cell_type": "code",
   "execution_count": 24,
   "metadata": {},
   "outputs": [
    {
     "name": "stdout",
     "output_type": "stream",
     "text": [
      "{}\n",
      "{'ultratech cement': 0.15462962962962962, 'anjani portland cement': 0.05857142857142857, 'burnpur cement': 0.05857142857142857, 'gujarat sidhee cement': 0.05857142857142857, 'jk cement': 0.05857142857142857, 'jk lakshmi cement': 0.05857142857142857, 'kakatiya cement sugar & industries': 0.05857142857142857, 'mangalam cement': 0.05857142857142857, 'orient cement': 0.05857142857142857, 'shree digvijay cement co': 0.05857142857142857, 'shree cement': 0.05857142857142857, 'star cement': 0.05857142857142857, 'central depository services (india)': 0.05857142857142857, 'central bank of india': 0.05857142857142857}\n"
     ]
    }
   ],
   "source": [
    "def find_max_or_min_value(arr):\n",
    "    maxi = max(arr)\n",
    "    mini = min(arr)\n",
    "    \n",
    "    return maxi if abs(maxi) > abs(mini) else mini\n",
    "\n",
    "def distribute_polarity(polarity_of_organ, organ_to_subsector, organ_to_company):\n",
    "    subsector_to_polarity = {}\n",
    "    company_to_polarity = {}\n",
    "    for organization in polarity_of_organ:\n",
    "        value = find_max_or_min_value(polarity_of_organ[organization])\n",
    "        \n",
    "        if organization in organ_to_subsector.keys():\n",
    "            for subsector in organ_to_subsector[organization]:\n",
    "                if subsector in subsector_to_polarity:\n",
    "                    value = subsector_to_polarity[subsector] if abs(subsector_to_polarity[subsector]) > abs(value) else value\n",
    "                subsector_to_polarity[subsector] = value\n",
    "                \n",
    "        elif organization in organ_to_company.keys():\n",
    "            for company in organ_to_company[organization]:\n",
    "                if company in company_to_polarity:\n",
    "                    value = company_to_polarity[company] if abs(company_to_polarity[company]) > abs(value) else value\n",
    "                company_to_polarity[company] = value\n",
    "        \n",
    "    # print(subsector_to_polarity)\n",
    "    # print(company_to_polarity)\n",
    "    return subsector_to_polarity, company_to_polarity\n",
    "\n",
    "subsector_to_polarity, company_to_polarity = distribute_polarity(polarity_of_organ, organ_to_subsector, organ_to_company)\n"
   ]
  },
  {
   "cell_type": "markdown",
   "metadata": {},
   "source": [
    "## One stop evaluater"
   ]
  },
  {
   "cell_type": "code",
   "execution_count": 42,
   "metadata": {},
   "outputs": [],
   "source": [
    "def find_subsector_company_sentiment(document):\n",
    "    document = \" \".join(document)\n",
    "    organization, _ = nltk_eval(document)\n",
    "    \n",
    "    organ_to_subsector = find_subsectors(organization, cleaned_subsectors)\n",
    "    organ_to_company = find_companies(organization, cleaned_companies)\n",
    "    \n",
    "    updated_organizatation = remove_other_organization(organization, organ_to_subsector, organ_to_company)\n",
    "    organ_to_sentenceid, total_sentences = find_organ_context(document, updated_organizatation)\n",
    "    \n",
    "    polarity_of_organ = find_sentiment_of_context(document, organ_to_sentenceid, total_sentences)\n",
    "    subsector_to_polarity, company_to_polarity = distribute_polarity(polarity_of_organ, organ_to_subsector, organ_to_company)\n",
    "    \n",
    "    return subsector_to_polarity, company_to_polarity"
   ]
  },
  {
   "cell_type": "code",
   "execution_count": 43,
   "metadata": {},
   "outputs": [
    {
     "name": "stdout",
     "output_type": "stream",
     "text": [
      "Organizations:\n",
      " ['goldman sachs', 'gdp', 'sachs', 'mishra', 'cnbc']\n",
      "{'mishra': [-0.07045454545454546, -0.0923076923076923, -0.06916666666666667, 0.029166666666666664, 0.00833333333333333]}\n",
      "{}\n",
      "{'mishra dhatu nigam': -0.0923076923076923}\n"
     ]
    },
    {
     "data": {
      "text/plain": [
       "({}, {'mishra dhatu nigam': -0.0923076923076923})"
      ]
     },
     "execution_count": 43,
     "metadata": {},
     "output_type": "execute_result"
    }
   ],
   "source": [
    "find_subsector_company_sentiment(document)"
   ]
  },
  {
   "cell_type": "markdown",
   "metadata": {},
   "source": [
    "## Test news extractor"
   ]
  },
  {
   "cell_type": "code",
   "execution_count": 18,
   "metadata": {
    "collapsed": true
   },
   "outputs": [
    {
     "name": "stdout",
     "output_type": "stream",
     "text": [
      "Organizations:\n",
      " ['completeurl', 'bloombergquint', 'top__28wgm', 'bq blue', 'union budget', 'union', 'coronavirus vaccine', 'rbi', 'fb8e1e', 'fineprint', 'elections', 'center__luymc', 'linkedin', 'adunit', 'gst', 'ipos', 'pwaeventdate', 'coronavirus outbreak', 'translatex', 'coronavirus pandemic', 'icici lombard', 'deferredprompt', 'scripttag', 'df0101', 'ff6564', 'corporate', 'nbcc', 'mrf', 'pgti', 'csr journal', 'mutual fund', 'news', 'markets', 'dell', 'rpg', 'mcx', 'lic', 'embassy group', 'hdfc', 'hdfc life', 'pti', 'telangana assembly election', 'mitsubishi electric', 'iifl', 'cfa', 'barriers', 'cleartax', 'real estate', 'real economy check', 'bank baroda', 'intel', 'pwadiff', 'of viral', 'bloomberg', 'moderna', 'eventmethod', 'eventname', 'optinmonsterapp', 'quint', 'business', 'whatsapp', 'americanexpress', 'bgbs', 'pnb fraud', 'bqportfolio videos', 'getdiffindays', 'addtohomescreen', 'parseint', 'doctype', 'moderna inc.', 'university oxford', 'mrna', 'rna', 'u.s. national institutes health', 'glaxosmithkline plc', 'newsarticle', 'mit license', 'buttontext', 'translatey', 'paytm', 'iframeslist', 'iframecontainer', 'iframeparent', 'adunitslist', 'adunitcontainer', 'messageevent', 'addlinktocopy', 'intersectionobserver', 'comscore_opts', 'js helper', 'referraldomainsrc', 'urlparts', 'optinmonster', 'quintillion media', 'company', 'engagement', 'sustainability', 'financial products', 'enterprise products', 'enterprise solutions', 'media', 'bloomberg politics', 'bloomberg view', 'news bureaus', 'customer support', 'americas', 'communications', 'industry products', 'media services', 'bloomberg live conferences', 'service center', 'telegram', 'coronavirus outbreak news', 'disclaimer', 'bq_story_banner_001', 'article_320x50', 'bq_leaderboard', 'bq_home_300x250_001', 'bq_section_mob_logo_125x125', 'davos_logo_125x75', 'davos_logo_300x50', 'davos_homepage_logo_300x55', 'davos_homepage_logo_150x55', 'davos_logo_100x75', 'davos_homepage_mobile_75x55', 'selectmedia_bq1x1', 'indeco', 'inb', 'indsup', 'inequity', 'inmoney', 'fed', 'bric', 'checo', 'bloombergquint studio', 'bloombergquint brand studio', 'mapicon', 'browsericon', 'paperplaneicon', 'sun pharma', 'upi', 'yoptima', 'isexternallink', 'fa1e64', 'top news', 'amazon news', 'business news', 'indiasbq', 'bbgs', 'pnb', 'bqportfolio', 'don', 'bloombergquint app', 'install', 'closedialog', 'ismobile', 'choiceresult', '__esmodule', 'cleartimeout']\n",
      "Location:\n",
      " ['China', 'India', 'Images', 'sans-serif', 'Arial', 'Videos', 'Financial', 'Error', 'Indian', 'Facebook', 'U.S.', 'New York', 'Vaccine', 'July', 'Moderna', 'Chinese', 'Europe', 'Middle East', 'Asia', 'Cambridge', 'Massachusetts', 'Notifications', 'Businessweek', 'Imagine', 'Per', 'Gadfly', 'Economy', 'Bitcoin', 'Aadhaar', 'Carnival', 'Right', 'Countdown', 'Latest', 'Home']\n",
      "Re Organizations:\n",
      " ['city union bank', 'shriram city union finance', 'union bank of india', 'hdfc asset management company', 'hdfc bank', 'hdfc life insurance company', 'iifl finance', 'iifl securities', 'iifl wealth management', 'lic housing finance', 'mrf', 'nbcc (india)', 'rpg life sciences', 'aspinwall and company', 'b.a.g films and media', 'balmer lawrie & company', 'bombay dyeing & mfg company', 'california software company', 'cholamandalam investment and finance company', 'diligent media corporation', 'elecon engineering company', 'elgi rubber company', 'energy development company', 'eros international media', 'the great eastern shipping company', 'gillanders arbuthnot & company', 'gujarat industries power company', 'orient green power company', 'the grob tea company', 'hindustan construction company', 'hindustan oil exploration company', 'hindustan media ventures', 'ht media', 'icici lombard general insurance company', 'icici prudential life insurance company', 'il&fs engineering and construction company', 'the indian hotels company', 'indian card clothing company', 'indian hume pipe company', 'jindal poly investment and finance company', 'kirloskar electric company', 'kalyani investment company', 'kaveri seed company', 'landmark property development company', 'manaksia aluminium company', 'mcnally bharat engineering company', 'national aluminium company', 'n. b. i. industrial finance company', 'network18 media & investments', 'the new india assurance company', 'noida toll bridge company', 'the orissa minerals development company', 'ortel communications', 'paramount communications', 'the peria karamalai tea & produce company', 'pnb gilts', 'pnb housing finance', 'pritish nandy communications', 'reliance communications', 'rupa & company', 'sab events & governance now media', 'sambhaav media', 'sbi life insurance company', 's chand and company', 'sel manufacturing company', 's h kelkar and company', 'sun pharma advanced research company', 'shriram transport finance company', 'sunflag iron and steel company', 'tata communications', 'tata power company', 'techno electric & engineering company', 'tide water oil company (india)', 'the tinplate company of india', 'titan company', 'tvs motor company', 'the united nilgiri tea estates company', 'williamson magor & company', 'zee media corporation', 'zodiac clothing company']\n"
     ]
    },
    {
     "data": {
      "text/plain": [
       "'Success'"
      ]
     },
     "execution_count": 18,
     "metadata": {},
     "output_type": "execute_result"
    }
   ],
   "source": [
    "import requests\n",
    "import urllib.parse\n",
    "url = \"https://www.bloombergquint.com/coronavirus-outbreak/vaccine-from-moderna-shows-early-signs-of-viral-immune-response\"\n",
    "response  = requests.get(url)\n",
    "\n",
    "nltk_eval(response.text)"
   ]
  },
  {
   "cell_type": "code",
   "execution_count": 19,
   "metadata": {},
   "outputs": [
    {
     "data": {
      "text/plain": [
       "<bound method Response.json of <Response [200]>>"
      ]
     },
     "execution_count": 19,
     "metadata": {},
     "output_type": "execute_result"
    }
   ],
   "source": [
    "response.json"
   ]
  },
  {
   "cell_type": "code",
   "execution_count": 45,
   "metadata": {},
   "outputs": [],
   "source": [
    "import lxml.html"
   ]
  },
  {
   "cell_type": "code",
   "execution_count": 65,
   "metadata": {},
   "outputs": [
    {
     "data": {
      "text/plain": [
       "[<Element div at 0x2dcfedd5598>]"
      ]
     },
     "execution_count": 65,
     "metadata": {},
     "output_type": "execute_result"
    }
   ],
   "source": [
    "url = \"https://www.bloombergquint.com/coronavirus-outbreak/vaccine-from-moderna-shows-early-signs-of-viral-immune-response\"\n",
    "response  = requests.get(url)\n",
    "doc = lxml.html.fromstring(response.content)\n",
    "tags = doc.xpath('//*[@class=\"story-element story-element-text\"]')\n",
    "total_tags = []\n",
    "for tag in tags:\n",
    "    total_tags.append(tag.text_content())\n",
    "tags"
   ]
  },
  {
   "cell_type": "code",
   "execution_count": 72,
   "metadata": {
    "collapsed": true
   },
   "outputs": [
    {
     "ename": "XMLSyntaxError",
     "evalue": "EntityRef: expecting ';', line 4, column 2589 (<string>, line 4)",
     "output_type": "error",
     "traceback": [
      "Traceback \u001b[1;36m(most recent call last)\u001b[0m:\n",
      "  File \u001b[0;32m\"C:\\Users\\Jayant\\Anaconda3\\envs\\ml\\lib\\site-packages\\IPython\\core\\interactiveshell.py\"\u001b[0m, line \u001b[0;32m3291\u001b[0m, in \u001b[0;35mrun_code\u001b[0m\n    exec(code_obj, self.user_global_ns, self.user_ns)\n",
      "  File \u001b[0;32m\"<ipython-input-72-96a13e564218>\"\u001b[0m, line \u001b[0;32m2\u001b[0m, in \u001b[0;35m<module>\u001b[0m\n    root = lxml.etree.fromstring(response.content)\n",
      "  File \u001b[0;32m\"src\\lxml\\etree.pyx\"\u001b[0m, line \u001b[0;32m3236\u001b[0m, in \u001b[0;35mlxml.etree.fromstring\u001b[0m\n",
      "  File \u001b[0;32m\"src\\lxml\\parser.pxi\"\u001b[0m, line \u001b[0;32m1876\u001b[0m, in \u001b[0;35mlxml.etree._parseMemoryDocument\u001b[0m\n",
      "  File \u001b[0;32m\"src\\lxml\\parser.pxi\"\u001b[0m, line \u001b[0;32m1764\u001b[0m, in \u001b[0;35mlxml.etree._parseDoc\u001b[0m\n",
      "  File \u001b[0;32m\"src\\lxml\\parser.pxi\"\u001b[0m, line \u001b[0;32m1127\u001b[0m, in \u001b[0;35mlxml.etree._BaseParser._parseDoc\u001b[0m\n",
      "  File \u001b[0;32m\"src\\lxml\\parser.pxi\"\u001b[0m, line \u001b[0;32m601\u001b[0m, in \u001b[0;35mlxml.etree._ParserContext._handleParseResultDoc\u001b[0m\n",
      "  File \u001b[0;32m\"src\\lxml\\parser.pxi\"\u001b[0m, line \u001b[0;32m711\u001b[0m, in \u001b[0;35mlxml.etree._handleParseResult\u001b[0m\n",
      "\u001b[1;36m  File \u001b[1;32m\"src\\lxml\\parser.pxi\"\u001b[1;36m, line \u001b[1;32m640\u001b[1;36m, in \u001b[1;35mlxml.etree._raiseParseError\u001b[1;36m\u001b[0m\n",
      "\u001b[1;36m  File \u001b[1;32m\"<string>\"\u001b[1;36m, line \u001b[1;32m4\u001b[0m\n\u001b[1;31mXMLSyntaxError\u001b[0m\u001b[1;31m:\u001b[0m EntityRef: expecting ';', line 4, column 2589\n"
     ]
    }
   ],
   "source": [
    "import lxml.etree\n",
    "root = lxml.etree.fromstring(response.content)\n",
    "for elem in root.xpath('//*[@class=\"story-element story-element-text\"]'):\n",
    "    print(\"j\")"
   ]
  },
  {
   "cell_type": "code",
   "execution_count": null,
   "metadata": {},
   "outputs": [],
   "source": []
  }
 ],
 "metadata": {
  "kernelspec": {
   "display_name": "Python 3",
   "language": "python",
   "name": "python3"
  },
  "language_info": {
   "codemirror_mode": {
    "name": "ipython",
    "version": 3
   },
   "file_extension": ".py",
   "mimetype": "text/x-python",
   "name": "python",
   "nbconvert_exporter": "python",
   "pygments_lexer": "ipython3",
   "version": "3.7.2"
  }
 },
 "nbformat": 4,
 "nbformat_minor": 2
}
